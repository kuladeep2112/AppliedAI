{
  "cells": [
    {
      "cell_type": "code",
      "execution_count": null,
      "metadata": {
        "id": "h5_QQAAm1HY8"
      },
      "outputs": [],
      "source": [
        "import os\n",
        "import shutil\n",
        "import numpy as np\n",
        "import pandas as pd\n",
        "from tqdm import tqdm\n",
        "import codecs\n",
        "import array\n",
        "import imageio as imageio\n",
        "import cv2 as cv\n",
        "from xgboost import XGBClassifier\n",
        "from sklearn.model_selection import RandomizedSearchCV\n",
        "from sklearn.metrics import log_loss\n",
        "from sklearn.metrics import confusion_matrix\n",
        "from sklearn.model_selection import train_test_split\n",
        "from sklearn.calibration import CalibratedClassifierCV\n",
        "import matplotlib.pyplot as plt\n",
        "from sklearn.metrics import confusion_matrix,ConfusionMatrixDisplay\n",
        "import dask\n",
        "import time\n",
        "from multiprocessing import Process# this is used for multithreading\n",
        "import multiprocessing\n",
        "import threading\n",
        "from sklearn.feature_selection import SelectKBest, chi2\n",
        "from sklearn.metrics import plot_confusion_matrix"
      ]
    },
    {
      "cell_type": "code",
      "execution_count": null,
      "metadata": {
        "id": "4P_fifKA1dn1"
      },
      "outputs": [],
      "source": [
        "os.chdir('/Volumes/KDH')\n",
        "os.getcwd()"
      ]
    },
    {
      "cell_type": "code",
      "execution_count": null,
      "metadata": {
        "id": "On9cARBG1HY_"
      },
      "outputs": [],
      "source": [
        "#separating byte files and asm files\n",
        "source = 'train'\n",
        "destination_1 = 'byteFiles'\n",
        "destination_2 = 'asmFiles'\n",
        "# we will check if the folder 'byteFiles' exists if it not there we will create a folder with the same name\n",
        "if not os.path.isdir(destination_1):\n",
        "    os.makedirs(destination_1)\n",
        "if not os.path.isdir(destination_2):\n",
        "    os.makedirs(destination_2)\n",
        "# so by the end of this snippet we will separate all the .byte files and .asm files\n",
        "if os.path.isdir(source):\n",
        "    data_files = os.listdir(source)\n",
        "    for file in data_files:\n",
        "        if file.startswith('._'):\n",
        "            continue\n",
        "        else: \n",
        "            if (file.endswith(\"bytes\")):\n",
        "                shutil.move(source+'/'+file,destination_1)\n",
        "            if (file.endswith(\"asm\")):\n",
        "                shutil.move(source+'/'+file,destination_2)\n",
        "                "
      ]
    },
    {
      "cell_type": "code",
      "execution_count": null,
      "metadata": {
        "id": "rIZn2d3S1HY_"
      },
      "outputs": [],
      "source": [
        "file_bytes=os.listdir('byteFiles')\n",
        "file_bytes=[i for i in file_bytes if not i.startswith('._')]"
      ]
    },
    {
      "cell_type": "code",
      "execution_count": null,
      "metadata": {
        "id": "e6pMev2R1HZA"
      },
      "outputs": [],
      "source": [
        "Y=pd.read_csv(\"/Users/kuladeep/AAI_assignment/MicrosoftMalware/trainLabels.csv\")\n",
        "filenames=Y['Id'].tolist()\n",
        "class_y=Y['Class'].tolist()"
      ]
    },
    {
      "cell_type": "markdown",
      "metadata": {
        "id": "gz_X3P1C1HZA"
      },
      "source": [
        "## Extracting bi-gram features from byteFiles"
      ]
    },
    {
      "cell_type": "code",
      "execution_count": null,
      "metadata": {
        "id": "UP_aRlOo1HZB"
      },
      "outputs": [],
      "source": [
        "a=['00,01,02,03,04,05,06,07,08,09,0a,0b,0c,0d,0e,0f,10,11,12,13,14,15,16,17,18,19,1a,1b,1c,1d,1e,1f,20,21,22,23,24,25,26,27,28,29,2a,2b,2c,2d,2e,2f,30,31,32,33,34,35,36,37,38,39,3a,3b,3c,3d,3e,3f,40,41,42,43,44,45,46,47,48,49,4a,4b,4c,4d,4e,4f,50,51,52,53,54,55,56,57,58,59,5a,5b,5c,5d,5e,5f,60,61,62,63,64,65,66,67,68,69,6a,6b,6c,6d,6e,6f,70,71,72,73,74,75,76,77,78,79,7a,7b,7c,7d,7e,7f,80,81,82,83,84,85,86,87,88,89,8a,8b,8c,8d,8e,8f,90,91,92,93,94,95,96,97,98,99,9a,9b,9c,9d,9e,9f,a0,a1,a2,a3,a4,a5,a6,a7,a8,a9,aa,ab,ac,ad,ae,af,b0,b1,b2,b3,b4,b5,b6,b7,b8,b9,ba,bb,bc,bd,be,bf,c0,c1,c2,c3,c4,c5,c6,c7,c8,c9,ca,cb,cc,cd,ce,cf,d0,d1,d2,d3,d4,d5,d6,d7,d8,d9,da,db,dc,dd,de,df,e0,e1,e2,e3,e4,e5,e6,e7,e8,e9,ea,eb,ec,ed,ee,ef,f0,f1,f2,f3,f4,f5,f6,f7,f8,f9,fa,fb,fc,fd,fe,ff,??']\n",
        "a=a[0].split(\",\")\n",
        "b=[]\n",
        "for i in a:\n",
        "    for j in a:\n",
        "        b.append(i+' '+j)"
      ]
    },
    {
      "cell_type": "code",
      "execution_count": null,
      "metadata": {
        "id": "6SVp9ph41HZB"
      },
      "outputs": [],
      "source": [
        "string=\"ID,\"\n",
        "for i in b:\n",
        "    string=string+i+','"
      ]
    },
    {
      "cell_type": "code",
      "execution_count": null,
      "metadata": {
        "id": "IvA9qaV_1HZB"
      },
      "outputs": [],
      "source": [
        "filenames=[]\n",
        "#we remove the starting address 00401000\n",
        "for file in file_bytes:\n",
        "    if(file.endswith(\"bytes\")):\n",
        "        file=file.split('.')[0]\n",
        "        text_file = open('byteFiles/'+file+\".txt\", 'w+')\n",
        "        with open('byteFiles/'+file+\".bytes\",\"r\") as fp:\n",
        "            lines=\"\"\n",
        "            for line in fp:\n",
        "                a=line.rstrip().split(\" \")[1:]\n",
        "                b=' '.join(a)\n",
        "                b=b+\"\\n\"\n",
        "                text_file.write(b)\n",
        "            fp.close()\n",
        "            os.remove('byteFiles/'+file+\".bytes\")\n",
        "        text_file.close()"
      ]
    },
    {
      "cell_type": "code",
      "execution_count": null,
      "metadata": {
        "id": "PmKnCQgO1HZC"
      },
      "outputs": [],
      "source": [
        "file_bytes=[i for i in file_bytes if i.endswith('.txt')]"
      ]
    },
    {
      "cell_type": "code",
      "execution_count": null,
      "metadata": {
        "id": "Ap0Us0pH1HZC",
        "outputId": "c8d32b95-c128-4151-a547-3bd8a0e6a354"
      },
      "outputs": [
        {
          "name": "stderr",
          "output_type": "stream",
          "text": [
            "100%|██████████| 10868/10868 [6:15:51<00:00,  2.08s/it]    \n"
          ]
        }
      ],
      "source": [
        "filenames2=[]\n",
        "feature_matrix = np.zeros((len(file_bytes),66049),dtype=int)\n",
        "k=0\n",
        "byte_feature_file=open('/Users/kuladeep/AAI_assignment/MicrosoftMalware/bigram_bytes.csv','w+')\n",
        "byte_feature_file.write(string)\n",
        "byte_feature_file.write(\"\\n\")\n",
        "for file in tqdm(file_bytes):\n",
        "    filenames2.append(file)\n",
        "    byte_feature_file.write(file+\",\")\n",
        "    if(file.endswith(\"txt\")):\n",
        "        byte_file=open('byteFiles/'+file)\n",
        "        for lines in byte_file:\n",
        "            lines=lines.rstrip()\n",
        "            line_hex_code=list(zip(lines.split(\" \")[:-1],lines.split(\" \")[1:]))\n",
        "            for hex_code in line_hex_code:\n",
        "                hex_code=list(hex_code)\n",
        "                if hex_code[0]=='??':\n",
        "                    hex_code[0]='100'\n",
        "                if hex_code[1]=='??':\n",
        "                    hex_code[1]='100'\n",
        "                index=int(hex_code[0],16)*257+int(hex_code[1],16)\n",
        "                feature_matrix[k][index]+=1\n",
        "        byte_file.close()\n",
        "       \n",
        "    for i, row in enumerate(feature_matrix[k]):\n",
        "        if i!=len(feature_matrix[k])-1:\n",
        "            byte_feature_file.write(str(row)+\",\")\n",
        "        else:\n",
        "            byte_feature_file.write(str(row))   \n",
        "    byte_feature_file.write(\"\\n\")\n",
        "    k += 1 \n",
        "byte_feature_file.close()"
      ]
    },
    {
      "cell_type": "markdown",
      "metadata": {
        "id": "huix0JFF1HZD"
      },
      "source": [
        "## Converting ASM file to image"
      ]
    },
    {
      "cell_type": "code",
      "execution_count": null,
      "metadata": {
        "id": "WEMiQOts1HZD"
      },
      "outputs": [],
      "source": [
        "# https://www.kaggle.com/code/paulrohan2020/microsoft-malware-detection-log-loss-of-0-0070\n",
        "# create a folder image_asm to store image files from .asm files\n",
        "if not os.path.isdir(\"image_file_asm\"):\n",
        "    os.mkdir(\"image_file_asm\")\n",
        "file_asm=os.listdir(\"asmFiles\")\n",
        "file_asm=[i for i in file_asm if not i.startswith('._')]"
      ]
    },
    {
      "cell_type": "code",
      "execution_count": null,
      "metadata": {
        "id": "sBAR5qYu1HZE",
        "outputId": "d06e4981-4bd2-483a-f873-7df60268a1f5"
      },
      "outputs": [
        {
          "name": "stderr",
          "output_type": "stream",
          "text": [
            "100%|██████████| 10868/10868 [2:15:17<00:00,  1.34it/s] \n"
          ]
        }
      ],
      "source": [
        "for file in tqdm(file_asm):\n",
        "    if(file.endswith(\"asm\")):\n",
        "        current_file = codecs.open(\"asmFiles/\" +file, 'rb')\n",
        "        size_of_current_asm_file = os.path.getsize(\"asmFiles/\"+file)\n",
        "    width_of_file = int(size_of_current_asm_file**0.5)\n",
        "    remainder = size_of_current_asm_file % width_of_file \n",
        "    # To create array of single bytes, passing type code 'B'\n",
        "    # \"B\" is for unsigned characters\n",
        "    array_of_image = array.array('B')\n",
        "    array_of_image.fromfile(current_file, size_of_current_asm_file-remainder)\n",
        "    current_file.close()\n",
        "    arr_of_generated_image = np.reshape(array_of_image[:width_of_file * width_of_file], (width_of_file, width_of_file))\n",
        "    arr_of_generated_image = np.uint8(arr_of_generated_image)\n",
        "    imageio.imwrite(\"image_file_asm\"+'/' +file.split(\".\")[0] + '.png', arr_of_generated_image)\n"
      ]
    },
    {
      "cell_type": "markdown",
      "metadata": {
        "id": "wTJx8a2U1HZE"
      },
      "source": [
        "## Extracting 800 features from ASM image files"
      ]
    },
    {
      "cell_type": "code",
      "execution_count": null,
      "metadata": {
        "id": "GrntsHjj1HZE",
        "outputId": "b84cb657-79c2-47ae-da0b-719e7c82037e"
      },
      "outputs": [
        {
          "name": "stderr",
          "output_type": "stream",
          "text": [
            "100%|██████████| 10868/10868 [14:01<00:00, 12.92it/s]\n"
          ]
        }
      ],
      "source": [
        "file_list_asm_files=os.listdir('image_file_asm')\n",
        "file_list_asm_files=[i for i in file_list_asm_files if not i.startswith('._')]\n",
        "with open(\"/Users/kuladeep/AAI_assignment/MicrosoftMalware/top_800_image_asm.csv\", mode='w+') as top_800_image_asm: \n",
        "    top_800_image_asm.write(','.join(map(str, [\"ID\"]+[\"pixel_asm{}\".format(i+1) for i in range(800)])))\n",
        "    top_800_image_asm.write('\\n')\n",
        "    for image in tqdm(file_list_asm_files):\n",
        "        file_id_asm_files=image.split(\".\")[0]\n",
        "        asm_image_array=cv.imread(\"image_file_asm/\"+image)\n",
        "        asm_image_array=asm_image_array.flatten()[:800]\n",
        "        top_800_image_asm.write(','.join(map(str, [file_id_asm_files]+list(asm_image_array))))\n",
        "        top_800_image_asm.write('\\n')"
      ]
    },
    {
      "cell_type": "markdown",
      "metadata": {
        "id": "BGysnUss1HZF"
      },
      "source": [
        "## Merging all features into single DataFrame"
      ]
    },
    {
      "cell_type": "code",
      "execution_count": null,
      "metadata": {
        "colab": {
          "base_uri": "https://localhost:8080/"
        },
        "id": "eSO64I7ZQ0An",
        "outputId": "845350e9-e9e3-4a12-8907-5b54fcf9ca39"
      },
      "outputs": [
        {
          "name": "stdout",
          "output_type": "stream",
          "text": [
            "Mounted at /content/drive\n"
          ]
        }
      ],
      "source": [
        "from google.colab import drive\n",
        "drive.mount('/content/drive')"
      ]
    },
    {
      "cell_type": "code",
      "execution_count": null,
      "metadata": {
        "colab": {
          "base_uri": "https://localhost:8080/",
          "height": 205
        },
        "id": "bGAp2ZEw1HZF",
        "outputId": "a5231b3f-d3da-4ca7-f731-89fae839b6e3"
      },
      "outputs": [
        {
          "data": {
            "text/html": [
              "\n",
              "  <div id=\"df-85098472-b6c9-4c64-b60c-a21e3ab17133\">\n",
              "    <div class=\"colab-df-container\">\n",
              "      <div>\n",
              "<style scoped>\n",
              "    .dataframe tbody tr th:only-of-type {\n",
              "        vertical-align: middle;\n",
              "    }\n",
              "\n",
              "    .dataframe tbody tr th {\n",
              "        vertical-align: top;\n",
              "    }\n",
              "\n",
              "    .dataframe thead th {\n",
              "        text-align: right;\n",
              "    }\n",
              "</style>\n",
              "<table border=\"1\" class=\"dataframe\">\n",
              "  <thead>\n",
              "    <tr style=\"text-align: right;\">\n",
              "      <th></th>\n",
              "      <th>ID</th>\n",
              "      <th>0</th>\n",
              "      <th>1</th>\n",
              "      <th>2</th>\n",
              "      <th>3</th>\n",
              "      <th>4</th>\n",
              "      <th>5</th>\n",
              "      <th>6</th>\n",
              "      <th>7</th>\n",
              "      <th>8</th>\n",
              "      <th>...</th>\n",
              "      <th>f9</th>\n",
              "      <th>fa</th>\n",
              "      <th>fb</th>\n",
              "      <th>fc</th>\n",
              "      <th>fd</th>\n",
              "      <th>fe</th>\n",
              "      <th>ff</th>\n",
              "      <th>??</th>\n",
              "      <th>size</th>\n",
              "      <th>Class</th>\n",
              "    </tr>\n",
              "  </thead>\n",
              "  <tbody>\n",
              "    <tr>\n",
              "      <th>0</th>\n",
              "      <td>01azqd4InC7m9JpocGv5</td>\n",
              "      <td>601905</td>\n",
              "      <td>3905</td>\n",
              "      <td>2816</td>\n",
              "      <td>3832</td>\n",
              "      <td>3345</td>\n",
              "      <td>3242</td>\n",
              "      <td>3650</td>\n",
              "      <td>3201</td>\n",
              "      <td>2965</td>\n",
              "      <td>...</td>\n",
              "      <td>3101</td>\n",
              "      <td>3211</td>\n",
              "      <td>3097</td>\n",
              "      <td>2758</td>\n",
              "      <td>3099</td>\n",
              "      <td>2759</td>\n",
              "      <td>5753</td>\n",
              "      <td>1824</td>\n",
              "      <td>4.234863</td>\n",
              "      <td>9</td>\n",
              "    </tr>\n",
              "    <tr>\n",
              "      <th>1</th>\n",
              "      <td>01IsoiSMh5gxyDYTl4CB</td>\n",
              "      <td>39755</td>\n",
              "      <td>8337</td>\n",
              "      <td>7249</td>\n",
              "      <td>7186</td>\n",
              "      <td>8663</td>\n",
              "      <td>6844</td>\n",
              "      <td>8420</td>\n",
              "      <td>7589</td>\n",
              "      <td>9291</td>\n",
              "      <td>...</td>\n",
              "      <td>439</td>\n",
              "      <td>281</td>\n",
              "      <td>302</td>\n",
              "      <td>7639</td>\n",
              "      <td>518</td>\n",
              "      <td>17001</td>\n",
              "      <td>54902</td>\n",
              "      <td>8588</td>\n",
              "      <td>5.538818</td>\n",
              "      <td>2</td>\n",
              "    </tr>\n",
              "  </tbody>\n",
              "</table>\n",
              "<p>2 rows × 260 columns</p>\n",
              "</div>\n",
              "      <button class=\"colab-df-convert\" onclick=\"convertToInteractive('df-85098472-b6c9-4c64-b60c-a21e3ab17133')\"\n",
              "              title=\"Convert this dataframe to an interactive table.\"\n",
              "              style=\"display:none;\">\n",
              "        \n",
              "  <svg xmlns=\"http://www.w3.org/2000/svg\" height=\"24px\"viewBox=\"0 0 24 24\"\n",
              "       width=\"24px\">\n",
              "    <path d=\"M0 0h24v24H0V0z\" fill=\"none\"/>\n",
              "    <path d=\"M18.56 5.44l.94 2.06.94-2.06 2.06-.94-2.06-.94-.94-2.06-.94 2.06-2.06.94zm-11 1L8.5 8.5l.94-2.06 2.06-.94-2.06-.94L8.5 2.5l-.94 2.06-2.06.94zm10 10l.94 2.06.94-2.06 2.06-.94-2.06-.94-.94-2.06-.94 2.06-2.06.94z\"/><path d=\"M17.41 7.96l-1.37-1.37c-.4-.4-.92-.59-1.43-.59-.52 0-1.04.2-1.43.59L10.3 9.45l-7.72 7.72c-.78.78-.78 2.05 0 2.83L4 21.41c.39.39.9.59 1.41.59.51 0 1.02-.2 1.41-.59l7.78-7.78 2.81-2.81c.8-.78.8-2.07 0-2.86zM5.41 20L4 18.59l7.72-7.72 1.47 1.35L5.41 20z\"/>\n",
              "  </svg>\n",
              "      </button>\n",
              "      \n",
              "  <style>\n",
              "    .colab-df-container {\n",
              "      display:flex;\n",
              "      flex-wrap:wrap;\n",
              "      gap: 12px;\n",
              "    }\n",
              "\n",
              "    .colab-df-convert {\n",
              "      background-color: #E8F0FE;\n",
              "      border: none;\n",
              "      border-radius: 50%;\n",
              "      cursor: pointer;\n",
              "      display: none;\n",
              "      fill: #1967D2;\n",
              "      height: 32px;\n",
              "      padding: 0 0 0 0;\n",
              "      width: 32px;\n",
              "    }\n",
              "\n",
              "    .colab-df-convert:hover {\n",
              "      background-color: #E2EBFA;\n",
              "      box-shadow: 0px 1px 2px rgba(60, 64, 67, 0.3), 0px 1px 3px 1px rgba(60, 64, 67, 0.15);\n",
              "      fill: #174EA6;\n",
              "    }\n",
              "\n",
              "    [theme=dark] .colab-df-convert {\n",
              "      background-color: #3B4455;\n",
              "      fill: #D2E3FC;\n",
              "    }\n",
              "\n",
              "    [theme=dark] .colab-df-convert:hover {\n",
              "      background-color: #434B5C;\n",
              "      box-shadow: 0px 1px 3px 1px rgba(0, 0, 0, 0.15);\n",
              "      filter: drop-shadow(0px 1px 2px rgba(0, 0, 0, 0.3));\n",
              "      fill: #FFFFFF;\n",
              "    }\n",
              "  </style>\n",
              "\n",
              "      <script>\n",
              "        const buttonEl =\n",
              "          document.querySelector('#df-85098472-b6c9-4c64-b60c-a21e3ab17133 button.colab-df-convert');\n",
              "        buttonEl.style.display =\n",
              "          google.colab.kernel.accessAllowed ? 'block' : 'none';\n",
              "\n",
              "        async function convertToInteractive(key) {\n",
              "          const element = document.querySelector('#df-85098472-b6c9-4c64-b60c-a21e3ab17133');\n",
              "          const dataTable =\n",
              "            await google.colab.kernel.invokeFunction('convertToInteractive',\n",
              "                                                     [key], {});\n",
              "          if (!dataTable) return;\n",
              "\n",
              "          const docLinkHtml = 'Like what you see? Visit the ' +\n",
              "            '<a target=\"_blank\" href=https://colab.research.google.com/notebooks/data_table.ipynb>data table notebook</a>'\n",
              "            + ' to learn more about interactive tables.';\n",
              "          element.innerHTML = '';\n",
              "          dataTable['output_type'] = 'display_data';\n",
              "          await google.colab.output.renderOutput(dataTable, element);\n",
              "          const docLink = document.createElement('div');\n",
              "          docLink.innerHTML = docLinkHtml;\n",
              "          element.appendChild(docLink);\n",
              "        }\n",
              "      </script>\n",
              "    </div>\n",
              "  </div>\n",
              "  "
            ],
            "text/plain": [
              "                     ID       0     1     2     3     4     5     6     7  \\\n",
              "0  01azqd4InC7m9JpocGv5  601905  3905  2816  3832  3345  3242  3650  3201   \n",
              "1  01IsoiSMh5gxyDYTl4CB   39755  8337  7249  7186  8663  6844  8420  7589   \n",
              "\n",
              "      8  ...    f9    fa    fb    fc    fd     fe     ff    ??      size  \\\n",
              "0  2965  ...  3101  3211  3097  2758  3099   2759   5753  1824  4.234863   \n",
              "1  9291  ...   439   281   302  7639   518  17001  54902  8588  5.538818   \n",
              "\n",
              "   Class  \n",
              "0      9  \n",
              "1      2  \n",
              "\n",
              "[2 rows x 260 columns]"
            ]
          },
          "execution_count": 8,
          "metadata": {},
          "output_type": "execute_result"
        }
      ],
      "source": [
        "byte_features=pd.read_csv(\"/content/drive/MyDrive/result_with_size.csv\")\n",
        "byte_features=byte_features.drop('Unnamed: 0',axis=1)\n",
        "byte_features.head(2)"
      ]
    },
    {
      "cell_type": "code",
      "execution_count": null,
      "metadata": {
        "colab": {
          "base_uri": "https://localhost:8080/"
        },
        "id": "YZrQl1Pu4Zkd",
        "outputId": "6cf5730e-32dd-4c78-ef48-12bc54fd50b3"
      },
      "outputs": [
        {
          "name": "stdout",
          "output_type": "stream",
          "text": [
            "<class 'pandas.core.frame.DataFrame'>\n",
            "RangeIndex: 10868 entries, 0 to 10867\n",
            "Columns: 66051 entries, ID to Unnamed: 66050\n",
            "dtypes: float64(1), int64(66049), object(1)\n",
            "memory usage: 5.3 GB\n"
          ]
        }
      ],
      "source": [
        "byte_bigram_features=pd.read_csv(\"/content/drive/MyDrive/bigram_bytes.csv\")\n",
        "byte_bigram_features.info(memory_usage = \"deep\")"
      ]
    },
    {
      "cell_type": "code",
      "execution_count": null,
      "metadata": {
        "id": "7znOgyMv99Qj"
      },
      "outputs": [],
      "source": [
        "byte_bigram_features['ID']  = byte_bigram_features['ID'].str.split('.').str[0]\n",
        "byte_bigram_features= byte_bigram_features.merge(byte_features[['ID','Class']], on='ID')"
      ]
    },
    {
      "cell_type": "markdown",
      "metadata": {
        "id": "AAhV2qlFSMbi"
      },
      "source": [
        "Normalize"
      ]
    },
    {
      "cell_type": "code",
      "execution_count": null,
      "metadata": {
        "id": "2nguixoEE0iJ"
      },
      "outputs": [],
      "source": [
        "my_dict={}\n",
        "my_dict1={}"
      ]
    },
    {
      "cell_type": "code",
      "execution_count": null,
      "metadata": {
        "colab": {
          "base_uri": "https://localhost:8080/"
        },
        "id": "kSxZLuQfSMA9",
        "outputId": "ff963a2d-8a93-442b-d57f-696d6036d37b"
      },
      "outputs": [
        {
          "name": "stderr",
          "output_type": "stream",
          "text": [
            "100%|██████████| 66052/66052 [00:33<00:00, 1997.99it/s]\n"
          ]
        }
      ],
      "source": [
        "def normalize(df):\n",
        "    for feature_name in tqdm(df.columns):\n",
        "        if (str(feature_name) != str('ID') and str(feature_name)!=str('Class') and str(feature_name)!=str('Unnamed: 66050')):\n",
        "            max_value = df[feature_name].max()\n",
        "            min_value = df[feature_name].min()\n",
        "            my_dict[feature_name] = (df[feature_name] - min_value) / (max_value - min_value)\n",
        "        if (str(feature_name) == str('ID') or str(feature_name)==str('Class')):\n",
        "            my_dict1[feature_name]=df[feature_name]\n",
        "    return df\n",
        "normalized_byte_features_with_bigrams= normalize(byte_bigram_features)\n"
      ]
    },
    {
      "cell_type": "code",
      "execution_count": null,
      "metadata": {
        "id": "I7IG2TXP2diu"
      },
      "outputs": [],
      "source": [
        "def normalize1(df):\n",
        "    for feature_name in tqdm(df.columns):\n",
        "        if (str(feature_name) != str('ID') and str(feature_name)!=str('Class') and str(feature_name)!=str('Unnamed: 66050')):\n",
        "            max_value = df[feature_name].max()\n",
        "            min_value = df[feature_name].min()\n",
        "            df[feature_name] = (df[feature_name] - min_value) / (max_value - min_value)\n",
        "    return df\n"
      ]
    },
    {
      "cell_type": "code",
      "execution_count": null,
      "metadata": {
        "colab": {
          "base_uri": "https://localhost:8080/"
        },
        "id": "m85RikFctX90",
        "outputId": "b11fc3e8-1c88-4f83-f236-28c5b40e184e"
      },
      "outputs": [
        {
          "name": "stdout",
          "output_type": "stream",
          "text": [
            "<class 'pandas.core.frame.DataFrame'>\n",
            "Int64Index: 10868 entries, 0 to 10867\n",
            "Columns: 66049 entries, 00 00 to ?? ??\n",
            "dtypes: float64(66049)\n",
            "memory usage: 5.3 GB\n"
          ]
        }
      ],
      "source": [
        "normalized_features1=pd.DataFrame(my_dict,dtype='float64')\n",
        "normalized_features2=pd.DataFrame(my_dict1)\n",
        "normalized_features1.replace(np.nan, 0, inplace=True)\n",
        "normalized_features1.info(memory_usage = \"deep\")"
      ]
    },
    {
      "cell_type": "markdown",
      "metadata": {
        "id": "3uM5Jmyf4T0t"
      },
      "source": [
        "SELECT TOP 2000 FEATURES"
      ]
    },
    {
      "cell_type": "code",
      "execution_count": null,
      "metadata": {
        "id": "ERxn4nlR5F1U"
      },
      "outputs": [],
      "source": [
        "top_2000_features=SelectKBest(chi2, k=2000)\n",
        "imp_features_byte_bigram = top_2000_features.fit_transform(normalized_features1, normalized_features2['Class'])"
      ]
    },
    {
      "cell_type": "code",
      "execution_count": null,
      "metadata": {
        "id": "BYlUwklfnqqv"
      },
      "outputs": [],
      "source": [
        "top_2000_imp_byte_bigram_features=pd.DataFrame(imp_features_byte_bigram)"
      ]
    },
    {
      "cell_type": "code",
      "execution_count": null,
      "metadata": {
        "id": "ijmfPkvpPU9x"
      },
      "outputs": [],
      "source": [
        "top_2000_imp_byte_bigram_features.columns=[i for i in range(2000,4000,1)]"
      ]
    },
    {
      "cell_type": "code",
      "execution_count": null,
      "metadata": {
        "colab": {
          "base_uri": "https://localhost:8080/"
        },
        "id": "JEdGRph2oF48",
        "outputId": "8163ea6a-6a87-4544-a364-dd9bb2c99cdb"
      },
      "outputs": [
        {
          "data": {
            "text/plain": [
              "(10868, 2001)"
            ]
          },
          "execution_count": 19,
          "metadata": {},
          "output_type": "execute_result"
        }
      ],
      "source": [
        "top_2000_byte_bigram_features = pd.concat([normalized_features2[\"ID\"], top_2000_imp_byte_bigram_features], axis=1)\n",
        "top_2000_byte_bigram_features.shape"
      ]
    },
    {
      "cell_type": "markdown",
      "metadata": {
        "id": "ye_eHHUs3edP"
      },
      "source": [
        "Top_2000 features of bigram+256 unigram features"
      ]
    },
    {
      "cell_type": "code",
      "execution_count": null,
      "metadata": {
        "id": "bjgFNLK02oT6"
      },
      "outputs": [],
      "source": [
        "top_2000_byte_bigram_features= top_2000_byte_bigram_features.merge(byte_features, on='ID')"
      ]
    },
    {
      "cell_type": "markdown",
      "metadata": {
        "id": "rxua1-4WoT9s"
      },
      "source": [
        "ASM FILE FEATURES"
      ]
    },
    {
      "cell_type": "code",
      "execution_count": null,
      "metadata": {
        "id": "C-XrFqapqshX"
      },
      "outputs": [],
      "source": [
        "Y=pd.read_csv(\"/content/drive/MyDrive/trainLabels.csv\")"
      ]
    },
    {
      "cell_type": "code",
      "execution_count": null,
      "metadata": {
        "colab": {
          "base_uri": "https://localhost:8080/",
          "height": 299
        },
        "id": "Fx8ZdBEA1HZG",
        "outputId": "9cafa9c3-6f10-41bb-d300-e7518d78999e"
      },
      "outputs": [
        {
          "data": {
            "text/html": [
              "\n",
              "  <div id=\"df-2878d7b7-9d58-41b1-a57e-9c3ec089e203\">\n",
              "    <div class=\"colab-df-container\">\n",
              "      <div>\n",
              "<style scoped>\n",
              "    .dataframe tbody tr th:only-of-type {\n",
              "        vertical-align: middle;\n",
              "    }\n",
              "\n",
              "    .dataframe tbody tr th {\n",
              "        vertical-align: top;\n",
              "    }\n",
              "\n",
              "    .dataframe thead th {\n",
              "        text-align: right;\n",
              "    }\n",
              "</style>\n",
              "<table border=\"1\" class=\"dataframe\">\n",
              "  <thead>\n",
              "    <tr style=\"text-align: right;\">\n",
              "      <th></th>\n",
              "      <th>ID</th>\n",
              "      <th>HEADER:</th>\n",
              "      <th>.text:</th>\n",
              "      <th>.Pav:</th>\n",
              "      <th>.idata:</th>\n",
              "      <th>.data:</th>\n",
              "      <th>.bss:</th>\n",
              "      <th>.rdata:</th>\n",
              "      <th>.edata:</th>\n",
              "      <th>.rsrc:</th>\n",
              "      <th>...</th>\n",
              "      <th>edx</th>\n",
              "      <th>esi</th>\n",
              "      <th>eax</th>\n",
              "      <th>ebx</th>\n",
              "      <th>ecx</th>\n",
              "      <th>edi</th>\n",
              "      <th>ebp</th>\n",
              "      <th>esp</th>\n",
              "      <th>eip</th>\n",
              "      <th>Class</th>\n",
              "    </tr>\n",
              "  </thead>\n",
              "  <tbody>\n",
              "    <tr>\n",
              "      <th>0</th>\n",
              "      <td>01kcPWA9K2BOxQeS5Rju</td>\n",
              "      <td>19</td>\n",
              "      <td>744</td>\n",
              "      <td>0</td>\n",
              "      <td>127</td>\n",
              "      <td>57</td>\n",
              "      <td>0</td>\n",
              "      <td>323</td>\n",
              "      <td>0</td>\n",
              "      <td>3</td>\n",
              "      <td>...</td>\n",
              "      <td>18</td>\n",
              "      <td>66</td>\n",
              "      <td>15</td>\n",
              "      <td>43</td>\n",
              "      <td>83</td>\n",
              "      <td>0</td>\n",
              "      <td>17</td>\n",
              "      <td>48</td>\n",
              "      <td>29</td>\n",
              "      <td>1</td>\n",
              "    </tr>\n",
              "    <tr>\n",
              "      <th>1</th>\n",
              "      <td>1E93CpP60RHFNiT5Qfvn</td>\n",
              "      <td>17</td>\n",
              "      <td>838</td>\n",
              "      <td>0</td>\n",
              "      <td>103</td>\n",
              "      <td>49</td>\n",
              "      <td>0</td>\n",
              "      <td>0</td>\n",
              "      <td>0</td>\n",
              "      <td>3</td>\n",
              "      <td>...</td>\n",
              "      <td>18</td>\n",
              "      <td>29</td>\n",
              "      <td>48</td>\n",
              "      <td>82</td>\n",
              "      <td>12</td>\n",
              "      <td>0</td>\n",
              "      <td>14</td>\n",
              "      <td>0</td>\n",
              "      <td>20</td>\n",
              "      <td>1</td>\n",
              "    </tr>\n",
              "    <tr>\n",
              "      <th>2</th>\n",
              "      <td>3ekVow2ajZHbTnBcsDfX</td>\n",
              "      <td>17</td>\n",
              "      <td>427</td>\n",
              "      <td>0</td>\n",
              "      <td>50</td>\n",
              "      <td>43</td>\n",
              "      <td>0</td>\n",
              "      <td>145</td>\n",
              "      <td>0</td>\n",
              "      <td>3</td>\n",
              "      <td>...</td>\n",
              "      <td>13</td>\n",
              "      <td>42</td>\n",
              "      <td>10</td>\n",
              "      <td>67</td>\n",
              "      <td>14</td>\n",
              "      <td>0</td>\n",
              "      <td>11</td>\n",
              "      <td>0</td>\n",
              "      <td>9</td>\n",
              "      <td>1</td>\n",
              "    </tr>\n",
              "    <tr>\n",
              "      <th>3</th>\n",
              "      <td>3X2nY7iQaPBIWDrAZqJe</td>\n",
              "      <td>17</td>\n",
              "      <td>227</td>\n",
              "      <td>0</td>\n",
              "      <td>43</td>\n",
              "      <td>19</td>\n",
              "      <td>0</td>\n",
              "      <td>0</td>\n",
              "      <td>0</td>\n",
              "      <td>3</td>\n",
              "      <td>...</td>\n",
              "      <td>6</td>\n",
              "      <td>8</td>\n",
              "      <td>14</td>\n",
              "      <td>7</td>\n",
              "      <td>2</td>\n",
              "      <td>0</td>\n",
              "      <td>8</td>\n",
              "      <td>0</td>\n",
              "      <td>6</td>\n",
              "      <td>1</td>\n",
              "    </tr>\n",
              "    <tr>\n",
              "      <th>4</th>\n",
              "      <td>46OZzdsSKDCFV8h7XWxf</td>\n",
              "      <td>17</td>\n",
              "      <td>402</td>\n",
              "      <td>0</td>\n",
              "      <td>59</td>\n",
              "      <td>170</td>\n",
              "      <td>0</td>\n",
              "      <td>0</td>\n",
              "      <td>0</td>\n",
              "      <td>3</td>\n",
              "      <td>...</td>\n",
              "      <td>12</td>\n",
              "      <td>9</td>\n",
              "      <td>18</td>\n",
              "      <td>29</td>\n",
              "      <td>5</td>\n",
              "      <td>0</td>\n",
              "      <td>11</td>\n",
              "      <td>0</td>\n",
              "      <td>11</td>\n",
              "      <td>1</td>\n",
              "    </tr>\n",
              "  </tbody>\n",
              "</table>\n",
              "<p>5 rows × 53 columns</p>\n",
              "</div>\n",
              "      <button class=\"colab-df-convert\" onclick=\"convertToInteractive('df-2878d7b7-9d58-41b1-a57e-9c3ec089e203')\"\n",
              "              title=\"Convert this dataframe to an interactive table.\"\n",
              "              style=\"display:none;\">\n",
              "        \n",
              "  <svg xmlns=\"http://www.w3.org/2000/svg\" height=\"24px\"viewBox=\"0 0 24 24\"\n",
              "       width=\"24px\">\n",
              "    <path d=\"M0 0h24v24H0V0z\" fill=\"none\"/>\n",
              "    <path d=\"M18.56 5.44l.94 2.06.94-2.06 2.06-.94-2.06-.94-.94-2.06-.94 2.06-2.06.94zm-11 1L8.5 8.5l.94-2.06 2.06-.94-2.06-.94L8.5 2.5l-.94 2.06-2.06.94zm10 10l.94 2.06.94-2.06 2.06-.94-2.06-.94-.94-2.06-.94 2.06-2.06.94z\"/><path d=\"M17.41 7.96l-1.37-1.37c-.4-.4-.92-.59-1.43-.59-.52 0-1.04.2-1.43.59L10.3 9.45l-7.72 7.72c-.78.78-.78 2.05 0 2.83L4 21.41c.39.39.9.59 1.41.59.51 0 1.02-.2 1.41-.59l7.78-7.78 2.81-2.81c.8-.78.8-2.07 0-2.86zM5.41 20L4 18.59l7.72-7.72 1.47 1.35L5.41 20z\"/>\n",
              "  </svg>\n",
              "      </button>\n",
              "      \n",
              "  <style>\n",
              "    .colab-df-container {\n",
              "      display:flex;\n",
              "      flex-wrap:wrap;\n",
              "      gap: 12px;\n",
              "    }\n",
              "\n",
              "    .colab-df-convert {\n",
              "      background-color: #E8F0FE;\n",
              "      border: none;\n",
              "      border-radius: 50%;\n",
              "      cursor: pointer;\n",
              "      display: none;\n",
              "      fill: #1967D2;\n",
              "      height: 32px;\n",
              "      padding: 0 0 0 0;\n",
              "      width: 32px;\n",
              "    }\n",
              "\n",
              "    .colab-df-convert:hover {\n",
              "      background-color: #E2EBFA;\n",
              "      box-shadow: 0px 1px 2px rgba(60, 64, 67, 0.3), 0px 1px 3px 1px rgba(60, 64, 67, 0.15);\n",
              "      fill: #174EA6;\n",
              "    }\n",
              "\n",
              "    [theme=dark] .colab-df-convert {\n",
              "      background-color: #3B4455;\n",
              "      fill: #D2E3FC;\n",
              "    }\n",
              "\n",
              "    [theme=dark] .colab-df-convert:hover {\n",
              "      background-color: #434B5C;\n",
              "      box-shadow: 0px 1px 3px 1px rgba(0, 0, 0, 0.15);\n",
              "      filter: drop-shadow(0px 1px 2px rgba(0, 0, 0, 0.3));\n",
              "      fill: #FFFFFF;\n",
              "    }\n",
              "  </style>\n",
              "\n",
              "      <script>\n",
              "        const buttonEl =\n",
              "          document.querySelector('#df-2878d7b7-9d58-41b1-a57e-9c3ec089e203 button.colab-df-convert');\n",
              "        buttonEl.style.display =\n",
              "          google.colab.kernel.accessAllowed ? 'block' : 'none';\n",
              "\n",
              "        async function convertToInteractive(key) {\n",
              "          const element = document.querySelector('#df-2878d7b7-9d58-41b1-a57e-9c3ec089e203');\n",
              "          const dataTable =\n",
              "            await google.colab.kernel.invokeFunction('convertToInteractive',\n",
              "                                                     [key], {});\n",
              "          if (!dataTable) return;\n",
              "\n",
              "          const docLinkHtml = 'Like what you see? Visit the ' +\n",
              "            '<a target=\"_blank\" href=https://colab.research.google.com/notebooks/data_table.ipynb>data table notebook</a>'\n",
              "            + ' to learn more about interactive tables.';\n",
              "          element.innerHTML = '';\n",
              "          dataTable['output_type'] = 'display_data';\n",
              "          await google.colab.output.renderOutput(dataTable, element);\n",
              "          const docLink = document.createElement('div');\n",
              "          docLink.innerHTML = docLinkHtml;\n",
              "          element.appendChild(docLink);\n",
              "        }\n",
              "      </script>\n",
              "    </div>\n",
              "  </div>\n",
              "  "
            ],
            "text/plain": [
              "                     ID  HEADER:  .text:  .Pav:  .idata:  .data:  .bss:  \\\n",
              "0  01kcPWA9K2BOxQeS5Rju       19     744      0      127      57      0   \n",
              "1  1E93CpP60RHFNiT5Qfvn       17     838      0      103      49      0   \n",
              "2  3ekVow2ajZHbTnBcsDfX       17     427      0       50      43      0   \n",
              "3  3X2nY7iQaPBIWDrAZqJe       17     227      0       43      19      0   \n",
              "4  46OZzdsSKDCFV8h7XWxf       17     402      0       59     170      0   \n",
              "\n",
              "   .rdata:  .edata:  .rsrc:  ...  edx  esi  eax  ebx  ecx  edi  ebp  esp  eip  \\\n",
              "0      323        0       3  ...   18   66   15   43   83    0   17   48   29   \n",
              "1        0        0       3  ...   18   29   48   82   12    0   14    0   20   \n",
              "2      145        0       3  ...   13   42   10   67   14    0   11    0    9   \n",
              "3        0        0       3  ...    6    8   14    7    2    0    8    0    6   \n",
              "4        0        0       3  ...   12    9   18   29    5    0   11    0   11   \n",
              "\n",
              "   Class  \n",
              "0      1  \n",
              "1      1  \n",
              "2      1  \n",
              "3      1  \n",
              "4      1  \n",
              "\n",
              "[5 rows x 53 columns]"
            ]
          },
          "execution_count": 22,
          "metadata": {},
          "output_type": "execute_result"
        }
      ],
      "source": [
        "df_asm=pd.read_csv(\"/content/drive/MyDrive/asmoutputfile.csv\")\n",
        "Y.columns = ['ID', 'Class']\n",
        "result_asm = pd.merge(df_asm, Y,on='ID', how='left')\n",
        "result_asm.head()"
      ]
    },
    {
      "cell_type": "code",
      "execution_count": null,
      "metadata": {
        "id": "UgQInaVE1HZH"
      },
      "outputs": [],
      "source": [
        "asm_size_byte_df=pd.read_csv(\"/content/drive/MyDrive/asm_with_size.csv\")\n",
        "asm_size_byte_df=asm_size_byte_df.drop('Unnamed: 0',axis=1)"
      ]
    },
    {
      "cell_type": "code",
      "execution_count": null,
      "metadata": {
        "colab": {
          "base_uri": "https://localhost:8080/",
          "height": 299
        },
        "id": "aIm_Cv_C1HZH",
        "outputId": "0b0184a7-7337-4a0d-df8b-f2d29c345e90"
      },
      "outputs": [
        {
          "data": {
            "text/html": [
              "\n",
              "  <div id=\"df-86ff3371-de3d-4559-8232-4fc6a76c675e\">\n",
              "    <div class=\"colab-df-container\">\n",
              "      <div>\n",
              "<style scoped>\n",
              "    .dataframe tbody tr th:only-of-type {\n",
              "        vertical-align: middle;\n",
              "    }\n",
              "\n",
              "    .dataframe tbody tr th {\n",
              "        vertical-align: top;\n",
              "    }\n",
              "\n",
              "    .dataframe thead th {\n",
              "        text-align: right;\n",
              "    }\n",
              "</style>\n",
              "<table border=\"1\" class=\"dataframe\">\n",
              "  <thead>\n",
              "    <tr style=\"text-align: right;\">\n",
              "      <th></th>\n",
              "      <th>ID</th>\n",
              "      <th>HEADER:</th>\n",
              "      <th>.text:</th>\n",
              "      <th>.Pav:</th>\n",
              "      <th>.idata:</th>\n",
              "      <th>.data:</th>\n",
              "      <th>.bss:</th>\n",
              "      <th>.rdata:</th>\n",
              "      <th>.edata:</th>\n",
              "      <th>.rsrc:</th>\n",
              "      <th>...</th>\n",
              "      <th>esi</th>\n",
              "      <th>eax</th>\n",
              "      <th>ebx</th>\n",
              "      <th>ecx</th>\n",
              "      <th>edi</th>\n",
              "      <th>ebp</th>\n",
              "      <th>esp</th>\n",
              "      <th>eip</th>\n",
              "      <th>Class</th>\n",
              "      <th>size_asm</th>\n",
              "    </tr>\n",
              "  </thead>\n",
              "  <tbody>\n",
              "    <tr>\n",
              "      <th>0</th>\n",
              "      <td>01kcPWA9K2BOxQeS5Rju</td>\n",
              "      <td>19</td>\n",
              "      <td>744</td>\n",
              "      <td>0</td>\n",
              "      <td>127</td>\n",
              "      <td>57</td>\n",
              "      <td>0</td>\n",
              "      <td>323</td>\n",
              "      <td>0</td>\n",
              "      <td>3</td>\n",
              "      <td>...</td>\n",
              "      <td>66</td>\n",
              "      <td>15</td>\n",
              "      <td>43</td>\n",
              "      <td>83</td>\n",
              "      <td>0</td>\n",
              "      <td>17</td>\n",
              "      <td>48</td>\n",
              "      <td>29</td>\n",
              "      <td>1</td>\n",
              "      <td>0.078190</td>\n",
              "    </tr>\n",
              "    <tr>\n",
              "      <th>1</th>\n",
              "      <td>1E93CpP60RHFNiT5Qfvn</td>\n",
              "      <td>17</td>\n",
              "      <td>838</td>\n",
              "      <td>0</td>\n",
              "      <td>103</td>\n",
              "      <td>49</td>\n",
              "      <td>0</td>\n",
              "      <td>0</td>\n",
              "      <td>0</td>\n",
              "      <td>3</td>\n",
              "      <td>...</td>\n",
              "      <td>29</td>\n",
              "      <td>48</td>\n",
              "      <td>82</td>\n",
              "      <td>12</td>\n",
              "      <td>0</td>\n",
              "      <td>14</td>\n",
              "      <td>0</td>\n",
              "      <td>20</td>\n",
              "      <td>1</td>\n",
              "      <td>0.063400</td>\n",
              "    </tr>\n",
              "    <tr>\n",
              "      <th>2</th>\n",
              "      <td>3ekVow2ajZHbTnBcsDfX</td>\n",
              "      <td>17</td>\n",
              "      <td>427</td>\n",
              "      <td>0</td>\n",
              "      <td>50</td>\n",
              "      <td>43</td>\n",
              "      <td>0</td>\n",
              "      <td>145</td>\n",
              "      <td>0</td>\n",
              "      <td>3</td>\n",
              "      <td>...</td>\n",
              "      <td>42</td>\n",
              "      <td>10</td>\n",
              "      <td>67</td>\n",
              "      <td>14</td>\n",
              "      <td>0</td>\n",
              "      <td>11</td>\n",
              "      <td>0</td>\n",
              "      <td>9</td>\n",
              "      <td>1</td>\n",
              "      <td>0.041695</td>\n",
              "    </tr>\n",
              "    <tr>\n",
              "      <th>3</th>\n",
              "      <td>3X2nY7iQaPBIWDrAZqJe</td>\n",
              "      <td>17</td>\n",
              "      <td>227</td>\n",
              "      <td>0</td>\n",
              "      <td>43</td>\n",
              "      <td>19</td>\n",
              "      <td>0</td>\n",
              "      <td>0</td>\n",
              "      <td>0</td>\n",
              "      <td>3</td>\n",
              "      <td>...</td>\n",
              "      <td>8</td>\n",
              "      <td>14</td>\n",
              "      <td>7</td>\n",
              "      <td>2</td>\n",
              "      <td>0</td>\n",
              "      <td>8</td>\n",
              "      <td>0</td>\n",
              "      <td>6</td>\n",
              "      <td>1</td>\n",
              "      <td>0.018757</td>\n",
              "    </tr>\n",
              "    <tr>\n",
              "      <th>4</th>\n",
              "      <td>46OZzdsSKDCFV8h7XWxf</td>\n",
              "      <td>17</td>\n",
              "      <td>402</td>\n",
              "      <td>0</td>\n",
              "      <td>59</td>\n",
              "      <td>170</td>\n",
              "      <td>0</td>\n",
              "      <td>0</td>\n",
              "      <td>0</td>\n",
              "      <td>3</td>\n",
              "      <td>...</td>\n",
              "      <td>9</td>\n",
              "      <td>18</td>\n",
              "      <td>29</td>\n",
              "      <td>5</td>\n",
              "      <td>0</td>\n",
              "      <td>11</td>\n",
              "      <td>0</td>\n",
              "      <td>11</td>\n",
              "      <td>1</td>\n",
              "      <td>0.037567</td>\n",
              "    </tr>\n",
              "  </tbody>\n",
              "</table>\n",
              "<p>5 rows × 54 columns</p>\n",
              "</div>\n",
              "      <button class=\"colab-df-convert\" onclick=\"convertToInteractive('df-86ff3371-de3d-4559-8232-4fc6a76c675e')\"\n",
              "              title=\"Convert this dataframe to an interactive table.\"\n",
              "              style=\"display:none;\">\n",
              "        \n",
              "  <svg xmlns=\"http://www.w3.org/2000/svg\" height=\"24px\"viewBox=\"0 0 24 24\"\n",
              "       width=\"24px\">\n",
              "    <path d=\"M0 0h24v24H0V0z\" fill=\"none\"/>\n",
              "    <path d=\"M18.56 5.44l.94 2.06.94-2.06 2.06-.94-2.06-.94-.94-2.06-.94 2.06-2.06.94zm-11 1L8.5 8.5l.94-2.06 2.06-.94-2.06-.94L8.5 2.5l-.94 2.06-2.06.94zm10 10l.94 2.06.94-2.06 2.06-.94-2.06-.94-.94-2.06-.94 2.06-2.06.94z\"/><path d=\"M17.41 7.96l-1.37-1.37c-.4-.4-.92-.59-1.43-.59-.52 0-1.04.2-1.43.59L10.3 9.45l-7.72 7.72c-.78.78-.78 2.05 0 2.83L4 21.41c.39.39.9.59 1.41.59.51 0 1.02-.2 1.41-.59l7.78-7.78 2.81-2.81c.8-.78.8-2.07 0-2.86zM5.41 20L4 18.59l7.72-7.72 1.47 1.35L5.41 20z\"/>\n",
              "  </svg>\n",
              "      </button>\n",
              "      \n",
              "  <style>\n",
              "    .colab-df-container {\n",
              "      display:flex;\n",
              "      flex-wrap:wrap;\n",
              "      gap: 12px;\n",
              "    }\n",
              "\n",
              "    .colab-df-convert {\n",
              "      background-color: #E8F0FE;\n",
              "      border: none;\n",
              "      border-radius: 50%;\n",
              "      cursor: pointer;\n",
              "      display: none;\n",
              "      fill: #1967D2;\n",
              "      height: 32px;\n",
              "      padding: 0 0 0 0;\n",
              "      width: 32px;\n",
              "    }\n",
              "\n",
              "    .colab-df-convert:hover {\n",
              "      background-color: #E2EBFA;\n",
              "      box-shadow: 0px 1px 2px rgba(60, 64, 67, 0.3), 0px 1px 3px 1px rgba(60, 64, 67, 0.15);\n",
              "      fill: #174EA6;\n",
              "    }\n",
              "\n",
              "    [theme=dark] .colab-df-convert {\n",
              "      background-color: #3B4455;\n",
              "      fill: #D2E3FC;\n",
              "    }\n",
              "\n",
              "    [theme=dark] .colab-df-convert:hover {\n",
              "      background-color: #434B5C;\n",
              "      box-shadow: 0px 1px 3px 1px rgba(0, 0, 0, 0.15);\n",
              "      filter: drop-shadow(0px 1px 2px rgba(0, 0, 0, 0.3));\n",
              "      fill: #FFFFFF;\n",
              "    }\n",
              "  </style>\n",
              "\n",
              "      <script>\n",
              "        const buttonEl =\n",
              "          document.querySelector('#df-86ff3371-de3d-4559-8232-4fc6a76c675e button.colab-df-convert');\n",
              "        buttonEl.style.display =\n",
              "          google.colab.kernel.accessAllowed ? 'block' : 'none';\n",
              "\n",
              "        async function convertToInteractive(key) {\n",
              "          const element = document.querySelector('#df-86ff3371-de3d-4559-8232-4fc6a76c675e');\n",
              "          const dataTable =\n",
              "            await google.colab.kernel.invokeFunction('convertToInteractive',\n",
              "                                                     [key], {});\n",
              "          if (!dataTable) return;\n",
              "\n",
              "          const docLinkHtml = 'Like what you see? Visit the ' +\n",
              "            '<a target=\"_blank\" href=https://colab.research.google.com/notebooks/data_table.ipynb>data table notebook</a>'\n",
              "            + ' to learn more about interactive tables.';\n",
              "          element.innerHTML = '';\n",
              "          dataTable['output_type'] = 'display_data';\n",
              "          await google.colab.output.renderOutput(dataTable, element);\n",
              "          const docLink = document.createElement('div');\n",
              "          docLink.innerHTML = docLinkHtml;\n",
              "          element.appendChild(docLink);\n",
              "        }\n",
              "      </script>\n",
              "    </div>\n",
              "  </div>\n",
              "  "
            ],
            "text/plain": [
              "                     ID  HEADER:  .text:  .Pav:  .idata:  .data:  .bss:  \\\n",
              "0  01kcPWA9K2BOxQeS5Rju       19     744      0      127      57      0   \n",
              "1  1E93CpP60RHFNiT5Qfvn       17     838      0      103      49      0   \n",
              "2  3ekVow2ajZHbTnBcsDfX       17     427      0       50      43      0   \n",
              "3  3X2nY7iQaPBIWDrAZqJe       17     227      0       43      19      0   \n",
              "4  46OZzdsSKDCFV8h7XWxf       17     402      0       59     170      0   \n",
              "\n",
              "   .rdata:  .edata:  .rsrc:  ...  esi  eax  ebx  ecx  edi  ebp  esp  eip  \\\n",
              "0      323        0       3  ...   66   15   43   83    0   17   48   29   \n",
              "1        0        0       3  ...   29   48   82   12    0   14    0   20   \n",
              "2      145        0       3  ...   42   10   67   14    0   11    0    9   \n",
              "3        0        0       3  ...    8   14    7    2    0    8    0    6   \n",
              "4        0        0       3  ...    9   18   29    5    0   11    0   11   \n",
              "\n",
              "   Class  size_asm  \n",
              "0      1  0.078190  \n",
              "1      1  0.063400  \n",
              "2      1  0.041695  \n",
              "3      1  0.018757  \n",
              "4      1  0.037567  \n",
              "\n",
              "[5 rows x 54 columns]"
            ]
          },
          "execution_count": 24,
          "metadata": {},
          "output_type": "execute_result"
        }
      ],
      "source": [
        "result_asm = pd.merge(result_asm, asm_size_byte_df.drop(['Class'], axis=1),on='ID', how='left')\n",
        "result_asm.head()"
      ]
    },
    {
      "cell_type": "code",
      "execution_count": null,
      "metadata": {
        "id": "CDPEfFyP1HZH"
      },
      "outputs": [],
      "source": [
        "top_800_features=pd.read_csv(\"/content/drive/MyDrive/top_800_image_asm.csv\")"
      ]
    },
    {
      "cell_type": "code",
      "execution_count": null,
      "metadata": {
        "colab": {
          "base_uri": "https://localhost:8080/",
          "height": 299
        },
        "id": "nNqn5xqp1HZH",
        "outputId": "be8e8fbf-c4d2-431e-f3b0-a4a7576c8547"
      },
      "outputs": [
        {
          "data": {
            "text/html": [
              "\n",
              "  <div id=\"df-f2618fc1-bf75-498e-b5d9-8ab1a8ef1b05\">\n",
              "    <div class=\"colab-df-container\">\n",
              "      <div>\n",
              "<style scoped>\n",
              "    .dataframe tbody tr th:only-of-type {\n",
              "        vertical-align: middle;\n",
              "    }\n",
              "\n",
              "    .dataframe tbody tr th {\n",
              "        vertical-align: top;\n",
              "    }\n",
              "\n",
              "    .dataframe thead th {\n",
              "        text-align: right;\n",
              "    }\n",
              "</style>\n",
              "<table border=\"1\" class=\"dataframe\">\n",
              "  <thead>\n",
              "    <tr style=\"text-align: right;\">\n",
              "      <th></th>\n",
              "      <th>ID</th>\n",
              "      <th>HEADER:</th>\n",
              "      <th>.text:</th>\n",
              "      <th>.Pav:</th>\n",
              "      <th>.idata:</th>\n",
              "      <th>.data:</th>\n",
              "      <th>.bss:</th>\n",
              "      <th>.rdata:</th>\n",
              "      <th>.edata:</th>\n",
              "      <th>.rsrc:</th>\n",
              "      <th>...</th>\n",
              "      <th>pixel_asm791</th>\n",
              "      <th>pixel_asm792</th>\n",
              "      <th>pixel_asm793</th>\n",
              "      <th>pixel_asm794</th>\n",
              "      <th>pixel_asm795</th>\n",
              "      <th>pixel_asm796</th>\n",
              "      <th>pixel_asm797</th>\n",
              "      <th>pixel_asm798</th>\n",
              "      <th>pixel_asm799</th>\n",
              "      <th>pixel_asm800</th>\n",
              "    </tr>\n",
              "  </thead>\n",
              "  <tbody>\n",
              "    <tr>\n",
              "      <th>0</th>\n",
              "      <td>01kcPWA9K2BOxQeS5Rju</td>\n",
              "      <td>19</td>\n",
              "      <td>744</td>\n",
              "      <td>0</td>\n",
              "      <td>127</td>\n",
              "      <td>57</td>\n",
              "      <td>0</td>\n",
              "      <td>323</td>\n",
              "      <td>0</td>\n",
              "      <td>3</td>\n",
              "      <td>...</td>\n",
              "      <td>114</td>\n",
              "      <td>114</td>\n",
              "      <td>105</td>\n",
              "      <td>105</td>\n",
              "      <td>105</td>\n",
              "      <td>103</td>\n",
              "      <td>103</td>\n",
              "      <td>103</td>\n",
              "      <td>104</td>\n",
              "      <td>104</td>\n",
              "    </tr>\n",
              "    <tr>\n",
              "      <th>1</th>\n",
              "      <td>1E93CpP60RHFNiT5Qfvn</td>\n",
              "      <td>17</td>\n",
              "      <td>838</td>\n",
              "      <td>0</td>\n",
              "      <td>103</td>\n",
              "      <td>49</td>\n",
              "      <td>0</td>\n",
              "      <td>0</td>\n",
              "      <td>0</td>\n",
              "      <td>3</td>\n",
              "      <td>...</td>\n",
              "      <td>114</td>\n",
              "      <td>114</td>\n",
              "      <td>105</td>\n",
              "      <td>105</td>\n",
              "      <td>105</td>\n",
              "      <td>103</td>\n",
              "      <td>103</td>\n",
              "      <td>103</td>\n",
              "      <td>104</td>\n",
              "      <td>104</td>\n",
              "    </tr>\n",
              "    <tr>\n",
              "      <th>2</th>\n",
              "      <td>3ekVow2ajZHbTnBcsDfX</td>\n",
              "      <td>17</td>\n",
              "      <td>427</td>\n",
              "      <td>0</td>\n",
              "      <td>50</td>\n",
              "      <td>43</td>\n",
              "      <td>0</td>\n",
              "      <td>145</td>\n",
              "      <td>0</td>\n",
              "      <td>3</td>\n",
              "      <td>...</td>\n",
              "      <td>114</td>\n",
              "      <td>114</td>\n",
              "      <td>105</td>\n",
              "      <td>105</td>\n",
              "      <td>105</td>\n",
              "      <td>103</td>\n",
              "      <td>103</td>\n",
              "      <td>103</td>\n",
              "      <td>104</td>\n",
              "      <td>104</td>\n",
              "    </tr>\n",
              "    <tr>\n",
              "      <th>3</th>\n",
              "      <td>3X2nY7iQaPBIWDrAZqJe</td>\n",
              "      <td>17</td>\n",
              "      <td>227</td>\n",
              "      <td>0</td>\n",
              "      <td>43</td>\n",
              "      <td>19</td>\n",
              "      <td>0</td>\n",
              "      <td>0</td>\n",
              "      <td>0</td>\n",
              "      <td>3</td>\n",
              "      <td>...</td>\n",
              "      <td>114</td>\n",
              "      <td>114</td>\n",
              "      <td>105</td>\n",
              "      <td>105</td>\n",
              "      <td>105</td>\n",
              "      <td>103</td>\n",
              "      <td>103</td>\n",
              "      <td>103</td>\n",
              "      <td>104</td>\n",
              "      <td>104</td>\n",
              "    </tr>\n",
              "    <tr>\n",
              "      <th>4</th>\n",
              "      <td>46OZzdsSKDCFV8h7XWxf</td>\n",
              "      <td>17</td>\n",
              "      <td>402</td>\n",
              "      <td>0</td>\n",
              "      <td>59</td>\n",
              "      <td>170</td>\n",
              "      <td>0</td>\n",
              "      <td>0</td>\n",
              "      <td>0</td>\n",
              "      <td>3</td>\n",
              "      <td>...</td>\n",
              "      <td>114</td>\n",
              "      <td>114</td>\n",
              "      <td>105</td>\n",
              "      <td>105</td>\n",
              "      <td>105</td>\n",
              "      <td>103</td>\n",
              "      <td>103</td>\n",
              "      <td>103</td>\n",
              "      <td>104</td>\n",
              "      <td>104</td>\n",
              "    </tr>\n",
              "  </tbody>\n",
              "</table>\n",
              "<p>5 rows × 854 columns</p>\n",
              "</div>\n",
              "      <button class=\"colab-df-convert\" onclick=\"convertToInteractive('df-f2618fc1-bf75-498e-b5d9-8ab1a8ef1b05')\"\n",
              "              title=\"Convert this dataframe to an interactive table.\"\n",
              "              style=\"display:none;\">\n",
              "        \n",
              "  <svg xmlns=\"http://www.w3.org/2000/svg\" height=\"24px\"viewBox=\"0 0 24 24\"\n",
              "       width=\"24px\">\n",
              "    <path d=\"M0 0h24v24H0V0z\" fill=\"none\"/>\n",
              "    <path d=\"M18.56 5.44l.94 2.06.94-2.06 2.06-.94-2.06-.94-.94-2.06-.94 2.06-2.06.94zm-11 1L8.5 8.5l.94-2.06 2.06-.94-2.06-.94L8.5 2.5l-.94 2.06-2.06.94zm10 10l.94 2.06.94-2.06 2.06-.94-2.06-.94-.94-2.06-.94 2.06-2.06.94z\"/><path d=\"M17.41 7.96l-1.37-1.37c-.4-.4-.92-.59-1.43-.59-.52 0-1.04.2-1.43.59L10.3 9.45l-7.72 7.72c-.78.78-.78 2.05 0 2.83L4 21.41c.39.39.9.59 1.41.59.51 0 1.02-.2 1.41-.59l7.78-7.78 2.81-2.81c.8-.78.8-2.07 0-2.86zM5.41 20L4 18.59l7.72-7.72 1.47 1.35L5.41 20z\"/>\n",
              "  </svg>\n",
              "      </button>\n",
              "      \n",
              "  <style>\n",
              "    .colab-df-container {\n",
              "      display:flex;\n",
              "      flex-wrap:wrap;\n",
              "      gap: 12px;\n",
              "    }\n",
              "\n",
              "    .colab-df-convert {\n",
              "      background-color: #E8F0FE;\n",
              "      border: none;\n",
              "      border-radius: 50%;\n",
              "      cursor: pointer;\n",
              "      display: none;\n",
              "      fill: #1967D2;\n",
              "      height: 32px;\n",
              "      padding: 0 0 0 0;\n",
              "      width: 32px;\n",
              "    }\n",
              "\n",
              "    .colab-df-convert:hover {\n",
              "      background-color: #E2EBFA;\n",
              "      box-shadow: 0px 1px 2px rgba(60, 64, 67, 0.3), 0px 1px 3px 1px rgba(60, 64, 67, 0.15);\n",
              "      fill: #174EA6;\n",
              "    }\n",
              "\n",
              "    [theme=dark] .colab-df-convert {\n",
              "      background-color: #3B4455;\n",
              "      fill: #D2E3FC;\n",
              "    }\n",
              "\n",
              "    [theme=dark] .colab-df-convert:hover {\n",
              "      background-color: #434B5C;\n",
              "      box-shadow: 0px 1px 3px 1px rgba(0, 0, 0, 0.15);\n",
              "      filter: drop-shadow(0px 1px 2px rgba(0, 0, 0, 0.3));\n",
              "      fill: #FFFFFF;\n",
              "    }\n",
              "  </style>\n",
              "\n",
              "      <script>\n",
              "        const buttonEl =\n",
              "          document.querySelector('#df-f2618fc1-bf75-498e-b5d9-8ab1a8ef1b05 button.colab-df-convert');\n",
              "        buttonEl.style.display =\n",
              "          google.colab.kernel.accessAllowed ? 'block' : 'none';\n",
              "\n",
              "        async function convertToInteractive(key) {\n",
              "          const element = document.querySelector('#df-f2618fc1-bf75-498e-b5d9-8ab1a8ef1b05');\n",
              "          const dataTable =\n",
              "            await google.colab.kernel.invokeFunction('convertToInteractive',\n",
              "                                                     [key], {});\n",
              "          if (!dataTable) return;\n",
              "\n",
              "          const docLinkHtml = 'Like what you see? Visit the ' +\n",
              "            '<a target=\"_blank\" href=https://colab.research.google.com/notebooks/data_table.ipynb>data table notebook</a>'\n",
              "            + ' to learn more about interactive tables.';\n",
              "          element.innerHTML = '';\n",
              "          dataTable['output_type'] = 'display_data';\n",
              "          await google.colab.output.renderOutput(dataTable, element);\n",
              "          const docLink = document.createElement('div');\n",
              "          docLink.innerHTML = docLinkHtml;\n",
              "          element.appendChild(docLink);\n",
              "        }\n",
              "      </script>\n",
              "    </div>\n",
              "  </div>\n",
              "  "
            ],
            "text/plain": [
              "                     ID  HEADER:  .text:  .Pav:  .idata:  .data:  .bss:  \\\n",
              "0  01kcPWA9K2BOxQeS5Rju       19     744      0      127      57      0   \n",
              "1  1E93CpP60RHFNiT5Qfvn       17     838      0      103      49      0   \n",
              "2  3ekVow2ajZHbTnBcsDfX       17     427      0       50      43      0   \n",
              "3  3X2nY7iQaPBIWDrAZqJe       17     227      0       43      19      0   \n",
              "4  46OZzdsSKDCFV8h7XWxf       17     402      0       59     170      0   \n",
              "\n",
              "   .rdata:  .edata:  .rsrc:  ...  pixel_asm791  pixel_asm792  pixel_asm793  \\\n",
              "0      323        0       3  ...           114           114           105   \n",
              "1        0        0       3  ...           114           114           105   \n",
              "2      145        0       3  ...           114           114           105   \n",
              "3        0        0       3  ...           114           114           105   \n",
              "4        0        0       3  ...           114           114           105   \n",
              "\n",
              "   pixel_asm794  pixel_asm795  pixel_asm796  pixel_asm797  pixel_asm798  \\\n",
              "0           105           105           103           103           103   \n",
              "1           105           105           103           103           103   \n",
              "2           105           105           103           103           103   \n",
              "3           105           105           103           103           103   \n",
              "4           105           105           103           103           103   \n",
              "\n",
              "   pixel_asm799  pixel_asm800  \n",
              "0           104           104  \n",
              "1           104           104  \n",
              "2           104           104  \n",
              "3           104           104  \n",
              "4           104           104  \n",
              "\n",
              "[5 rows x 854 columns]"
            ]
          },
          "execution_count": 27,
          "metadata": {},
          "output_type": "execute_result"
        }
      ],
      "source": [
        "result_asm = pd.merge(result_asm, top_800_features,on='ID', how='left')\n",
        "result_asm.head()"
      ]
    },
    {
      "cell_type": "code",
      "execution_count": null,
      "metadata": {
        "colab": {
          "base_uri": "https://localhost:8080/",
          "height": 317
        },
        "id": "ODwfjxTZ1HZH",
        "outputId": "e6f5b169-87d6-49ed-9fc6-d55ae96da787"
      },
      "outputs": [
        {
          "name": "stderr",
          "output_type": "stream",
          "text": [
            "100%|██████████| 854/854 [00:09<00:00, 89.62it/s] \n"
          ]
        },
        {
          "data": {
            "text/html": [
              "\n",
              "  <div id=\"df-db34d17d-6f10-4c1f-a777-43b8c385be54\">\n",
              "    <div class=\"colab-df-container\">\n",
              "      <div>\n",
              "<style scoped>\n",
              "    .dataframe tbody tr th:only-of-type {\n",
              "        vertical-align: middle;\n",
              "    }\n",
              "\n",
              "    .dataframe tbody tr th {\n",
              "        vertical-align: top;\n",
              "    }\n",
              "\n",
              "    .dataframe thead th {\n",
              "        text-align: right;\n",
              "    }\n",
              "</style>\n",
              "<table border=\"1\" class=\"dataframe\">\n",
              "  <thead>\n",
              "    <tr style=\"text-align: right;\">\n",
              "      <th></th>\n",
              "      <th>ID</th>\n",
              "      <th>HEADER:</th>\n",
              "      <th>.text:</th>\n",
              "      <th>.Pav:</th>\n",
              "      <th>.idata:</th>\n",
              "      <th>.data:</th>\n",
              "      <th>.bss:</th>\n",
              "      <th>.rdata:</th>\n",
              "      <th>.edata:</th>\n",
              "      <th>.rsrc:</th>\n",
              "      <th>...</th>\n",
              "      <th>pixel_asm791</th>\n",
              "      <th>pixel_asm792</th>\n",
              "      <th>pixel_asm793</th>\n",
              "      <th>pixel_asm794</th>\n",
              "      <th>pixel_asm795</th>\n",
              "      <th>pixel_asm796</th>\n",
              "      <th>pixel_asm797</th>\n",
              "      <th>pixel_asm798</th>\n",
              "      <th>pixel_asm799</th>\n",
              "      <th>pixel_asm800</th>\n",
              "    </tr>\n",
              "  </thead>\n",
              "  <tbody>\n",
              "    <tr>\n",
              "      <th>0</th>\n",
              "      <td>01kcPWA9K2BOxQeS5Rju</td>\n",
              "      <td>0.107345</td>\n",
              "      <td>0.001092</td>\n",
              "      <td>0.0</td>\n",
              "      <td>0.000761</td>\n",
              "      <td>0.000023</td>\n",
              "      <td>0.0</td>\n",
              "      <td>0.000084</td>\n",
              "      <td>0.0</td>\n",
              "      <td>0.000072</td>\n",
              "      <td>...</td>\n",
              "      <td>1.0</td>\n",
              "      <td>1.0</td>\n",
              "      <td>0.897196</td>\n",
              "      <td>0.897196</td>\n",
              "      <td>0.897196</td>\n",
              "      <td>0.898734</td>\n",
              "      <td>0.898734</td>\n",
              "      <td>0.898734</td>\n",
              "      <td>0.9</td>\n",
              "      <td>0.9</td>\n",
              "    </tr>\n",
              "    <tr>\n",
              "      <th>1</th>\n",
              "      <td>1E93CpP60RHFNiT5Qfvn</td>\n",
              "      <td>0.096045</td>\n",
              "      <td>0.001230</td>\n",
              "      <td>0.0</td>\n",
              "      <td>0.000617</td>\n",
              "      <td>0.000019</td>\n",
              "      <td>0.0</td>\n",
              "      <td>0.000000</td>\n",
              "      <td>0.0</td>\n",
              "      <td>0.000072</td>\n",
              "      <td>...</td>\n",
              "      <td>1.0</td>\n",
              "      <td>1.0</td>\n",
              "      <td>0.897196</td>\n",
              "      <td>0.897196</td>\n",
              "      <td>0.897196</td>\n",
              "      <td>0.898734</td>\n",
              "      <td>0.898734</td>\n",
              "      <td>0.898734</td>\n",
              "      <td>0.9</td>\n",
              "      <td>0.9</td>\n",
              "    </tr>\n",
              "    <tr>\n",
              "      <th>2</th>\n",
              "      <td>3ekVow2ajZHbTnBcsDfX</td>\n",
              "      <td>0.096045</td>\n",
              "      <td>0.000627</td>\n",
              "      <td>0.0</td>\n",
              "      <td>0.000300</td>\n",
              "      <td>0.000017</td>\n",
              "      <td>0.0</td>\n",
              "      <td>0.000038</td>\n",
              "      <td>0.0</td>\n",
              "      <td>0.000072</td>\n",
              "      <td>...</td>\n",
              "      <td>1.0</td>\n",
              "      <td>1.0</td>\n",
              "      <td>0.897196</td>\n",
              "      <td>0.897196</td>\n",
              "      <td>0.897196</td>\n",
              "      <td>0.898734</td>\n",
              "      <td>0.898734</td>\n",
              "      <td>0.898734</td>\n",
              "      <td>0.9</td>\n",
              "      <td>0.9</td>\n",
              "    </tr>\n",
              "    <tr>\n",
              "      <th>3</th>\n",
              "      <td>3X2nY7iQaPBIWDrAZqJe</td>\n",
              "      <td>0.096045</td>\n",
              "      <td>0.000333</td>\n",
              "      <td>0.0</td>\n",
              "      <td>0.000258</td>\n",
              "      <td>0.000008</td>\n",
              "      <td>0.0</td>\n",
              "      <td>0.000000</td>\n",
              "      <td>0.0</td>\n",
              "      <td>0.000072</td>\n",
              "      <td>...</td>\n",
              "      <td>1.0</td>\n",
              "      <td>1.0</td>\n",
              "      <td>0.897196</td>\n",
              "      <td>0.897196</td>\n",
              "      <td>0.897196</td>\n",
              "      <td>0.898734</td>\n",
              "      <td>0.898734</td>\n",
              "      <td>0.898734</td>\n",
              "      <td>0.9</td>\n",
              "      <td>0.9</td>\n",
              "    </tr>\n",
              "    <tr>\n",
              "      <th>4</th>\n",
              "      <td>46OZzdsSKDCFV8h7XWxf</td>\n",
              "      <td>0.096045</td>\n",
              "      <td>0.000590</td>\n",
              "      <td>0.0</td>\n",
              "      <td>0.000353</td>\n",
              "      <td>0.000068</td>\n",
              "      <td>0.0</td>\n",
              "      <td>0.000000</td>\n",
              "      <td>0.0</td>\n",
              "      <td>0.000072</td>\n",
              "      <td>...</td>\n",
              "      <td>1.0</td>\n",
              "      <td>1.0</td>\n",
              "      <td>0.897196</td>\n",
              "      <td>0.897196</td>\n",
              "      <td>0.897196</td>\n",
              "      <td>0.898734</td>\n",
              "      <td>0.898734</td>\n",
              "      <td>0.898734</td>\n",
              "      <td>0.9</td>\n",
              "      <td>0.9</td>\n",
              "    </tr>\n",
              "  </tbody>\n",
              "</table>\n",
              "<p>5 rows × 854 columns</p>\n",
              "</div>\n",
              "      <button class=\"colab-df-convert\" onclick=\"convertToInteractive('df-db34d17d-6f10-4c1f-a777-43b8c385be54')\"\n",
              "              title=\"Convert this dataframe to an interactive table.\"\n",
              "              style=\"display:none;\">\n",
              "        \n",
              "  <svg xmlns=\"http://www.w3.org/2000/svg\" height=\"24px\"viewBox=\"0 0 24 24\"\n",
              "       width=\"24px\">\n",
              "    <path d=\"M0 0h24v24H0V0z\" fill=\"none\"/>\n",
              "    <path d=\"M18.56 5.44l.94 2.06.94-2.06 2.06-.94-2.06-.94-.94-2.06-.94 2.06-2.06.94zm-11 1L8.5 8.5l.94-2.06 2.06-.94-2.06-.94L8.5 2.5l-.94 2.06-2.06.94zm10 10l.94 2.06.94-2.06 2.06-.94-2.06-.94-.94-2.06-.94 2.06-2.06.94z\"/><path d=\"M17.41 7.96l-1.37-1.37c-.4-.4-.92-.59-1.43-.59-.52 0-1.04.2-1.43.59L10.3 9.45l-7.72 7.72c-.78.78-.78 2.05 0 2.83L4 21.41c.39.39.9.59 1.41.59.51 0 1.02-.2 1.41-.59l7.78-7.78 2.81-2.81c.8-.78.8-2.07 0-2.86zM5.41 20L4 18.59l7.72-7.72 1.47 1.35L5.41 20z\"/>\n",
              "  </svg>\n",
              "      </button>\n",
              "      \n",
              "  <style>\n",
              "    .colab-df-container {\n",
              "      display:flex;\n",
              "      flex-wrap:wrap;\n",
              "      gap: 12px;\n",
              "    }\n",
              "\n",
              "    .colab-df-convert {\n",
              "      background-color: #E8F0FE;\n",
              "      border: none;\n",
              "      border-radius: 50%;\n",
              "      cursor: pointer;\n",
              "      display: none;\n",
              "      fill: #1967D2;\n",
              "      height: 32px;\n",
              "      padding: 0 0 0 0;\n",
              "      width: 32px;\n",
              "    }\n",
              "\n",
              "    .colab-df-convert:hover {\n",
              "      background-color: #E2EBFA;\n",
              "      box-shadow: 0px 1px 2px rgba(60, 64, 67, 0.3), 0px 1px 3px 1px rgba(60, 64, 67, 0.15);\n",
              "      fill: #174EA6;\n",
              "    }\n",
              "\n",
              "    [theme=dark] .colab-df-convert {\n",
              "      background-color: #3B4455;\n",
              "      fill: #D2E3FC;\n",
              "    }\n",
              "\n",
              "    [theme=dark] .colab-df-convert:hover {\n",
              "      background-color: #434B5C;\n",
              "      box-shadow: 0px 1px 3px 1px rgba(0, 0, 0, 0.15);\n",
              "      filter: drop-shadow(0px 1px 2px rgba(0, 0, 0, 0.3));\n",
              "      fill: #FFFFFF;\n",
              "    }\n",
              "  </style>\n",
              "\n",
              "      <script>\n",
              "        const buttonEl =\n",
              "          document.querySelector('#df-db34d17d-6f10-4c1f-a777-43b8c385be54 button.colab-df-convert');\n",
              "        buttonEl.style.display =\n",
              "          google.colab.kernel.accessAllowed ? 'block' : 'none';\n",
              "\n",
              "        async function convertToInteractive(key) {\n",
              "          const element = document.querySelector('#df-db34d17d-6f10-4c1f-a777-43b8c385be54');\n",
              "          const dataTable =\n",
              "            await google.colab.kernel.invokeFunction('convertToInteractive',\n",
              "                                                     [key], {});\n",
              "          if (!dataTable) return;\n",
              "\n",
              "          const docLinkHtml = 'Like what you see? Visit the ' +\n",
              "            '<a target=\"_blank\" href=https://colab.research.google.com/notebooks/data_table.ipynb>data table notebook</a>'\n",
              "            + ' to learn more about interactive tables.';\n",
              "          element.innerHTML = '';\n",
              "          dataTable['output_type'] = 'display_data';\n",
              "          await google.colab.output.renderOutput(dataTable, element);\n",
              "          const docLink = document.createElement('div');\n",
              "          docLink.innerHTML = docLinkHtml;\n",
              "          element.appendChild(docLink);\n",
              "        }\n",
              "      </script>\n",
              "    </div>\n",
              "  </div>\n",
              "  "
            ],
            "text/plain": [
              "                     ID   HEADER:    .text:  .Pav:   .idata:    .data:  .bss:  \\\n",
              "0  01kcPWA9K2BOxQeS5Rju  0.107345  0.001092    0.0  0.000761  0.000023    0.0   \n",
              "1  1E93CpP60RHFNiT5Qfvn  0.096045  0.001230    0.0  0.000617  0.000019    0.0   \n",
              "2  3ekVow2ajZHbTnBcsDfX  0.096045  0.000627    0.0  0.000300  0.000017    0.0   \n",
              "3  3X2nY7iQaPBIWDrAZqJe  0.096045  0.000333    0.0  0.000258  0.000008    0.0   \n",
              "4  46OZzdsSKDCFV8h7XWxf  0.096045  0.000590    0.0  0.000353  0.000068    0.0   \n",
              "\n",
              "    .rdata:  .edata:    .rsrc:  ...  pixel_asm791  pixel_asm792  pixel_asm793  \\\n",
              "0  0.000084      0.0  0.000072  ...           1.0           1.0      0.897196   \n",
              "1  0.000000      0.0  0.000072  ...           1.0           1.0      0.897196   \n",
              "2  0.000038      0.0  0.000072  ...           1.0           1.0      0.897196   \n",
              "3  0.000000      0.0  0.000072  ...           1.0           1.0      0.897196   \n",
              "4  0.000000      0.0  0.000072  ...           1.0           1.0      0.897196   \n",
              "\n",
              "   pixel_asm794  pixel_asm795  pixel_asm796  pixel_asm797  pixel_asm798  \\\n",
              "0      0.897196      0.897196      0.898734      0.898734      0.898734   \n",
              "1      0.897196      0.897196      0.898734      0.898734      0.898734   \n",
              "2      0.897196      0.897196      0.898734      0.898734      0.898734   \n",
              "3      0.897196      0.897196      0.898734      0.898734      0.898734   \n",
              "4      0.897196      0.897196      0.898734      0.898734      0.898734   \n",
              "\n",
              "   pixel_asm799  pixel_asm800  \n",
              "0           0.9           0.9  \n",
              "1           0.9           0.9  \n",
              "2           0.9           0.9  \n",
              "3           0.9           0.9  \n",
              "4           0.9           0.9  \n",
              "\n",
              "[5 rows x 854 columns]"
            ]
          },
          "execution_count": 28,
          "metadata": {},
          "output_type": "execute_result"
        }
      ],
      "source": [
        "# we normalize the data each column \n",
        "result_asm = normalize1(result_asm)\n",
        "result_asm.head()"
      ]
    },
    {
      "cell_type": "markdown",
      "metadata": {
        "id": "V6xpPuRC1HZI"
      },
      "source": [
        "<h3> 4.5.1. Merging both asm and byte file features</h3>"
      ]
    },
    {
      "cell_type": "code",
      "execution_count": null,
      "metadata": {
        "id": "hSTy0K0fPsFZ"
      },
      "outputs": [],
      "source": [
        "result_asm=result_asm.drop('Class',axis=1)"
      ]
    },
    {
      "cell_type": "code",
      "execution_count": null,
      "metadata": {
        "colab": {
          "base_uri": "https://localhost:8080/"
        },
        "id": "A8HTAYu-1HZI",
        "outputId": "cf642877-c3d3-4b6c-c8b6-b1a4d4cdf546"
      },
      "outputs": [
        {
          "name": "stdout",
          "output_type": "stream",
          "text": [
            "(10868, 2260)\n",
            "(10868, 853)\n"
          ]
        }
      ],
      "source": [
        "print(top_2000_byte_bigram_features.shape)\n",
        "print(result_asm.shape)"
      ]
    },
    {
      "cell_type": "code",
      "execution_count": null,
      "metadata": {
        "colab": {
          "base_uri": "https://localhost:8080/",
          "height": 299
        },
        "id": "OpIIeXHs1HZI",
        "outputId": "8d2958b1-d0c7-4229-9f7e-96924902c623"
      },
      "outputs": [
        {
          "data": {
            "text/html": [
              "\n",
              "  <div id=\"df-4e063f5d-2b24-4ac3-afb0-5cd55458eabe\">\n",
              "    <div class=\"colab-df-container\">\n",
              "      <div>\n",
              "<style scoped>\n",
              "    .dataframe tbody tr th:only-of-type {\n",
              "        vertical-align: middle;\n",
              "    }\n",
              "\n",
              "    .dataframe tbody tr th {\n",
              "        vertical-align: top;\n",
              "    }\n",
              "\n",
              "    .dataframe thead th {\n",
              "        text-align: right;\n",
              "    }\n",
              "</style>\n",
              "<table border=\"1\" class=\"dataframe\">\n",
              "  <thead>\n",
              "    <tr style=\"text-align: right;\">\n",
              "      <th></th>\n",
              "      <th>2000</th>\n",
              "      <th>2001</th>\n",
              "      <th>2002</th>\n",
              "      <th>2003</th>\n",
              "      <th>2004</th>\n",
              "      <th>2005</th>\n",
              "      <th>2006</th>\n",
              "      <th>2007</th>\n",
              "      <th>2008</th>\n",
              "      <th>2009</th>\n",
              "      <th>...</th>\n",
              "      <th>pixel_asm791</th>\n",
              "      <th>pixel_asm792</th>\n",
              "      <th>pixel_asm793</th>\n",
              "      <th>pixel_asm794</th>\n",
              "      <th>pixel_asm795</th>\n",
              "      <th>pixel_asm796</th>\n",
              "      <th>pixel_asm797</th>\n",
              "      <th>pixel_asm798</th>\n",
              "      <th>pixel_asm799</th>\n",
              "      <th>pixel_asm800</th>\n",
              "    </tr>\n",
              "  </thead>\n",
              "  <tbody>\n",
              "    <tr>\n",
              "      <th>0</th>\n",
              "      <td>0.000000</td>\n",
              "      <td>0.000150</td>\n",
              "      <td>0.000000</td>\n",
              "      <td>0.000000</td>\n",
              "      <td>0.000000</td>\n",
              "      <td>0.000</td>\n",
              "      <td>0.000000</td>\n",
              "      <td>0.040230</td>\n",
              "      <td>0.066667</td>\n",
              "      <td>0.000000</td>\n",
              "      <td>...</td>\n",
              "      <td>0.219048</td>\n",
              "      <td>0.219048</td>\n",
              "      <td>0.214953</td>\n",
              "      <td>0.214953</td>\n",
              "      <td>0.214953</td>\n",
              "      <td>0.000000</td>\n",
              "      <td>0.000000</td>\n",
              "      <td>0.000000</td>\n",
              "      <td>0.0</td>\n",
              "      <td>0.0</td>\n",
              "    </tr>\n",
              "    <tr>\n",
              "      <th>1</th>\n",
              "      <td>0.003092</td>\n",
              "      <td>0.000226</td>\n",
              "      <td>0.014423</td>\n",
              "      <td>0.052023</td>\n",
              "      <td>0.033113</td>\n",
              "      <td>0.024</td>\n",
              "      <td>0.043478</td>\n",
              "      <td>0.028736</td>\n",
              "      <td>0.038095</td>\n",
              "      <td>0.019355</td>\n",
              "      <td>...</td>\n",
              "      <td>1.000000</td>\n",
              "      <td>1.000000</td>\n",
              "      <td>0.897196</td>\n",
              "      <td>0.897196</td>\n",
              "      <td>0.897196</td>\n",
              "      <td>0.898734</td>\n",
              "      <td>0.898734</td>\n",
              "      <td>0.898734</td>\n",
              "      <td>0.9</td>\n",
              "      <td>0.9</td>\n",
              "    </tr>\n",
              "    <tr>\n",
              "      <th>2</th>\n",
              "      <td>0.000736</td>\n",
              "      <td>0.000301</td>\n",
              "      <td>0.002404</td>\n",
              "      <td>0.011561</td>\n",
              "      <td>0.006623</td>\n",
              "      <td>0.016</td>\n",
              "      <td>0.000000</td>\n",
              "      <td>0.011494</td>\n",
              "      <td>0.009524</td>\n",
              "      <td>0.000000</td>\n",
              "      <td>...</td>\n",
              "      <td>1.000000</td>\n",
              "      <td>1.000000</td>\n",
              "      <td>0.897196</td>\n",
              "      <td>0.897196</td>\n",
              "      <td>0.897196</td>\n",
              "      <td>0.898734</td>\n",
              "      <td>0.898734</td>\n",
              "      <td>0.898734</td>\n",
              "      <td>0.9</td>\n",
              "      <td>0.9</td>\n",
              "    </tr>\n",
              "    <tr>\n",
              "      <th>3</th>\n",
              "      <td>0.000000</td>\n",
              "      <td>0.000075</td>\n",
              "      <td>0.406250</td>\n",
              "      <td>0.005780</td>\n",
              "      <td>0.026490</td>\n",
              "      <td>0.008</td>\n",
              "      <td>0.000000</td>\n",
              "      <td>0.000000</td>\n",
              "      <td>0.000000</td>\n",
              "      <td>0.006452</td>\n",
              "      <td>...</td>\n",
              "      <td>1.000000</td>\n",
              "      <td>1.000000</td>\n",
              "      <td>0.897196</td>\n",
              "      <td>0.897196</td>\n",
              "      <td>0.897196</td>\n",
              "      <td>0.898734</td>\n",
              "      <td>0.898734</td>\n",
              "      <td>0.898734</td>\n",
              "      <td>0.9</td>\n",
              "      <td>0.9</td>\n",
              "    </tr>\n",
              "    <tr>\n",
              "      <th>4</th>\n",
              "      <td>0.000147</td>\n",
              "      <td>0.000000</td>\n",
              "      <td>0.004808</td>\n",
              "      <td>0.000000</td>\n",
              "      <td>0.000000</td>\n",
              "      <td>0.000</td>\n",
              "      <td>0.017391</td>\n",
              "      <td>0.005747</td>\n",
              "      <td>0.000000</td>\n",
              "      <td>0.019355</td>\n",
              "      <td>...</td>\n",
              "      <td>1.000000</td>\n",
              "      <td>1.000000</td>\n",
              "      <td>0.897196</td>\n",
              "      <td>0.897196</td>\n",
              "      <td>0.897196</td>\n",
              "      <td>0.898734</td>\n",
              "      <td>0.898734</td>\n",
              "      <td>0.898734</td>\n",
              "      <td>0.9</td>\n",
              "      <td>0.9</td>\n",
              "    </tr>\n",
              "  </tbody>\n",
              "</table>\n",
              "<p>5 rows × 3110 columns</p>\n",
              "</div>\n",
              "      <button class=\"colab-df-convert\" onclick=\"convertToInteractive('df-4e063f5d-2b24-4ac3-afb0-5cd55458eabe')\"\n",
              "              title=\"Convert this dataframe to an interactive table.\"\n",
              "              style=\"display:none;\">\n",
              "        \n",
              "  <svg xmlns=\"http://www.w3.org/2000/svg\" height=\"24px\"viewBox=\"0 0 24 24\"\n",
              "       width=\"24px\">\n",
              "    <path d=\"M0 0h24v24H0V0z\" fill=\"none\"/>\n",
              "    <path d=\"M18.56 5.44l.94 2.06.94-2.06 2.06-.94-2.06-.94-.94-2.06-.94 2.06-2.06.94zm-11 1L8.5 8.5l.94-2.06 2.06-.94-2.06-.94L8.5 2.5l-.94 2.06-2.06.94zm10 10l.94 2.06.94-2.06 2.06-.94-2.06-.94-.94-2.06-.94 2.06-2.06.94z\"/><path d=\"M17.41 7.96l-1.37-1.37c-.4-.4-.92-.59-1.43-.59-.52 0-1.04.2-1.43.59L10.3 9.45l-7.72 7.72c-.78.78-.78 2.05 0 2.83L4 21.41c.39.39.9.59 1.41.59.51 0 1.02-.2 1.41-.59l7.78-7.78 2.81-2.81c.8-.78.8-2.07 0-2.86zM5.41 20L4 18.59l7.72-7.72 1.47 1.35L5.41 20z\"/>\n",
              "  </svg>\n",
              "      </button>\n",
              "      \n",
              "  <style>\n",
              "    .colab-df-container {\n",
              "      display:flex;\n",
              "      flex-wrap:wrap;\n",
              "      gap: 12px;\n",
              "    }\n",
              "\n",
              "    .colab-df-convert {\n",
              "      background-color: #E8F0FE;\n",
              "      border: none;\n",
              "      border-radius: 50%;\n",
              "      cursor: pointer;\n",
              "      display: none;\n",
              "      fill: #1967D2;\n",
              "      height: 32px;\n",
              "      padding: 0 0 0 0;\n",
              "      width: 32px;\n",
              "    }\n",
              "\n",
              "    .colab-df-convert:hover {\n",
              "      background-color: #E2EBFA;\n",
              "      box-shadow: 0px 1px 2px rgba(60, 64, 67, 0.3), 0px 1px 3px 1px rgba(60, 64, 67, 0.15);\n",
              "      fill: #174EA6;\n",
              "    }\n",
              "\n",
              "    [theme=dark] .colab-df-convert {\n",
              "      background-color: #3B4455;\n",
              "      fill: #D2E3FC;\n",
              "    }\n",
              "\n",
              "    [theme=dark] .colab-df-convert:hover {\n",
              "      background-color: #434B5C;\n",
              "      box-shadow: 0px 1px 3px 1px rgba(0, 0, 0, 0.15);\n",
              "      filter: drop-shadow(0px 1px 2px rgba(0, 0, 0, 0.3));\n",
              "      fill: #FFFFFF;\n",
              "    }\n",
              "  </style>\n",
              "\n",
              "      <script>\n",
              "        const buttonEl =\n",
              "          document.querySelector('#df-4e063f5d-2b24-4ac3-afb0-5cd55458eabe button.colab-df-convert');\n",
              "        buttonEl.style.display =\n",
              "          google.colab.kernel.accessAllowed ? 'block' : 'none';\n",
              "\n",
              "        async function convertToInteractive(key) {\n",
              "          const element = document.querySelector('#df-4e063f5d-2b24-4ac3-afb0-5cd55458eabe');\n",
              "          const dataTable =\n",
              "            await google.colab.kernel.invokeFunction('convertToInteractive',\n",
              "                                                     [key], {});\n",
              "          if (!dataTable) return;\n",
              "\n",
              "          const docLinkHtml = 'Like what you see? Visit the ' +\n",
              "            '<a target=\"_blank\" href=https://colab.research.google.com/notebooks/data_table.ipynb>data table notebook</a>'\n",
              "            + ' to learn more about interactive tables.';\n",
              "          element.innerHTML = '';\n",
              "          dataTable['output_type'] = 'display_data';\n",
              "          await google.colab.output.renderOutput(dataTable, element);\n",
              "          const docLink = document.createElement('div');\n",
              "          docLink.innerHTML = docLinkHtml;\n",
              "          element.appendChild(docLink);\n",
              "        }\n",
              "      </script>\n",
              "    </div>\n",
              "  </div>\n",
              "  "
            ],
            "text/plain": [
              "       2000      2001      2002      2003      2004   2005      2006  \\\n",
              "0  0.000000  0.000150  0.000000  0.000000  0.000000  0.000  0.000000   \n",
              "1  0.003092  0.000226  0.014423  0.052023  0.033113  0.024  0.043478   \n",
              "2  0.000736  0.000301  0.002404  0.011561  0.006623  0.016  0.000000   \n",
              "3  0.000000  0.000075  0.406250  0.005780  0.026490  0.008  0.000000   \n",
              "4  0.000147  0.000000  0.004808  0.000000  0.000000  0.000  0.017391   \n",
              "\n",
              "       2007      2008      2009  ...  pixel_asm791  pixel_asm792  \\\n",
              "0  0.040230  0.066667  0.000000  ...      0.219048      0.219048   \n",
              "1  0.028736  0.038095  0.019355  ...      1.000000      1.000000   \n",
              "2  0.011494  0.009524  0.000000  ...      1.000000      1.000000   \n",
              "3  0.000000  0.000000  0.006452  ...      1.000000      1.000000   \n",
              "4  0.005747  0.000000  0.019355  ...      1.000000      1.000000   \n",
              "\n",
              "   pixel_asm793  pixel_asm794  pixel_asm795  pixel_asm796  pixel_asm797  \\\n",
              "0      0.214953      0.214953      0.214953      0.000000      0.000000   \n",
              "1      0.897196      0.897196      0.897196      0.898734      0.898734   \n",
              "2      0.897196      0.897196      0.897196      0.898734      0.898734   \n",
              "3      0.897196      0.897196      0.897196      0.898734      0.898734   \n",
              "4      0.897196      0.897196      0.897196      0.898734      0.898734   \n",
              "\n",
              "   pixel_asm798  pixel_asm799  pixel_asm800  \n",
              "0      0.000000           0.0           0.0  \n",
              "1      0.898734           0.9           0.9  \n",
              "2      0.898734           0.9           0.9  \n",
              "3      0.898734           0.9           0.9  \n",
              "4      0.898734           0.9           0.9  \n",
              "\n",
              "[5 rows x 3110 columns]"
            ]
          },
          "execution_count": 31,
          "metadata": {},
          "output_type": "execute_result"
        }
      ],
      "source": [
        "result_x = pd.merge(top_2000_byte_bigram_features,result_asm,on='ID', how='left')\n",
        "result_y = result_x['Class']\n",
        "result_x = result_x.drop(['ID','Class'], axis=1)\n",
        "result_x.head()"
      ]
    },
    {
      "cell_type": "code",
      "execution_count": null,
      "metadata": {
        "id": "OypJFwlLHWhw"
      },
      "outputs": [],
      "source": [
        "result_x=result_x.drop(['.BSS:','rtn','.CODE'],axis=1)"
      ]
    },
    {
      "cell_type": "markdown",
      "metadata": {
        "id": "acnapr0z1HZI"
      },
      "source": [
        "<h3> 4.5.3. Train and Test split</h3>"
      ]
    },
    {
      "cell_type": "code",
      "execution_count": null,
      "metadata": {
        "id": "Ehy4y6Gz1HZI"
      },
      "outputs": [],
      "source": [
        "X_train, X_test_merge, y_train, y_test_merge = train_test_split(result_x, result_y,stratify=result_y,test_size=0.20)\n",
        "X_train_merge, X_cv_merge, y_train_merge, y_cv_merge = train_test_split(X_train, y_train,stratify=y_train,test_size=0.20)"
      ]
    },
    {
      "cell_type": "markdown",
      "metadata": {
        "id": "lQMz5LQJ1HZI"
      },
      "source": [
        "<h3> 4.5.5. XgBoost Classifier on final features</h3>"
      ]
    },
    {
      "cell_type": "code",
      "execution_count": null,
      "metadata": {
        "id": "WURMp3a_MBJ0"
      },
      "outputs": [],
      "source": [
        "from sklearn.preprocessing import LabelEncoder\n",
        "le = LabelEncoder()\n",
        "y_train_merge = le.fit_transform(y_train_merge)\n",
        "y_cv_merge = le.fit_transform(y_cv_merge)\n",
        "y_test_merge=le.fit_transform(y_test_merge)"
      ]
    },
    {
      "cell_type": "code",
      "execution_count": null,
      "metadata": {
        "colab": {
          "base_uri": "https://localhost:8080/",
          "height": 473
        },
        "id": "qXOIVKHJ1HZI",
        "outputId": "8b91295a-539b-4fbe-a4fb-c5131ff628a0"
      },
      "outputs": [
        {
          "name": "stdout",
          "output_type": "stream",
          "text": [
            "log_loss for c =  10 is 0.03561249748668364\n",
            "log_loss for c =  50 is 0.02165520540797234\n",
            "log_loss for c =  100 is 0.021351327987700987\n",
            "log_loss for c =  500 is 0.02096063250285928\n",
            "log_loss for c =  1000 is 0.020960178514369925\n",
            "log_loss for c =  2000 is 0.02096112422524921\n",
            "log_loss for c =  3000 is 0.02096069917117237\n"
          ]
        },
        {
          "data": {
            "image/png": "[encoded data removed]",
            "text/plain": [
              "<Figure size 432x288 with 1 Axes>"
            ]
          },
          "metadata": {},
          "output_type": "display_data"
        },
        {
          "name": "stdout",
          "output_type": "stream",
          "text": [
            "For values of best alpha =  1000 The train log loss is: 0.013198245214406499\n",
            "For values of best alpha =  1000 The cross validation log loss is: 0.020960178514369925\n",
            "For values of best alpha =  1000 The test log loss is: 0.035166287489879905\n"
          ]
        }
      ],
      "source": [
        "alpha=[10,50,100,500,1000,2000,3000]\n",
        "cv_log_error_array=[]\n",
        "for i in alpha:\n",
        "    x_cfl=XGBClassifier(n_estimators=i)\n",
        "    x_cfl.fit(X_train_merge,y_train_merge)\n",
        "    sig_clf = CalibratedClassifierCV(x_cfl, method=\"sigmoid\")\n",
        "    sig_clf.fit(X_train_merge, y_train_merge)\n",
        "    predict_y = sig_clf.predict_proba(X_cv_merge)\n",
        "    cv_log_error_array.append(log_loss(y_cv_merge, predict_y, labels=x_cfl.classes_, eps=1e-15))\n",
        "\n",
        "for i in range(len(cv_log_error_array)):\n",
        "    print ('log_loss for c = ',alpha[i],'is',cv_log_error_array[i])\n",
        "\n",
        "\n",
        "best_alpha = np.argmin(cv_log_error_array)\n",
        "\n",
        "fig, ax = plt.subplots()\n",
        "ax.plot(alpha, cv_log_error_array,c='g')\n",
        "for i, txt in enumerate(np.round(cv_log_error_array,3)):\n",
        "    ax.annotate((alpha[i],np.round(txt,3)), (alpha[i],cv_log_error_array[i]))\n",
        "plt.grid()\n",
        "plt.title(\"Cross Validation Error for each alpha\")\n",
        "plt.xlabel(\"Alpha i's\")\n",
        "plt.ylabel(\"Error measure\")\n",
        "plt.show()\n",
        "\n",
        "x_cfl=XGBClassifier(n_estimators=alpha[best_alpha],nthread=-1)\n",
        "x_cfl.fit(X_train_merge,y_train_merge,verbose=True)\n",
        "sig_clf = CalibratedClassifierCV(x_cfl, method=\"sigmoid\")\n",
        "sig_clf.fit(X_train_merge, y_train_merge)\n",
        "predict_y = sig_clf.predict_proba(X_train_merge)\n",
        "print ('For values of best alpha = ', alpha[best_alpha], \"The train log loss is:\",log_loss(y_train_merge, predict_y))\n",
        "predict_y = sig_clf.predict_proba(X_cv_merge)\n",
        "print('For values of best alpha = ', alpha[best_alpha], \"The cross validation log loss is:\",log_loss(y_cv_merge, predict_y))\n",
        "predict_y = sig_clf.predict_proba(X_test_merge)\n",
        "print('For values of best alpha = ', alpha[best_alpha], \"The test log loss is:\",log_loss(y_test_merge, predict_y))"
      ]
    },
    {
      "cell_type": "markdown",
      "metadata": {
        "id": "l6Aebct21HZI"
      },
      "source": [
        "<h3> 4.5.5. XgBoost Classifier on final features with best hyper parameters using Random search</h3>"
      ]
    },
    {
      "cell_type": "code",
      "execution_count": null,
      "metadata": {
        "colab": {
          "base_uri": "https://localhost:8080/"
        },
        "id": "84J6b9Q21HZJ",
        "outputId": "edb92f3e-e74c-49fe-9064-8c2d9207d67a"
      },
      "outputs": [
        {
          "name": "stdout",
          "output_type": "stream",
          "text": [
            "Fitting 5 folds for each of 10 candidates, totalling 50 fits\n",
            "{'tree_method': 'gpu_hist', 'subsample': 1, 'n_estimators': 500, 'max_depth': 3, 'learning_rate': 0.15, 'colsample_bytree': 0.5}\n"
          ]
        }
      ],
      "source": [
        "x_cfl=XGBClassifier()\n",
        "\n",
        "prams={\n",
        "    'learning_rate':[0.01,0.03,0.05,0.1,0.15,0.2],\n",
        "     'n_estimators':[100,200,500,1000,2000],\n",
        "     'max_depth':[3,5,10],\n",
        "     'tree_method': ['gpu_hist'],\n",
        "    'colsample_bytree':[0.1,0.3,0.5,1],\n",
        "    'subsample':[0.1,0.3,0.5,1]\n",
        "}\n",
        "random_cfl=RandomizedSearchCV(x_cfl,param_distributions=prams,verbose=10,n_jobs=-1,)\n",
        "random_cfl.fit(X_train_merge, y_train_merge)\n",
        "print(random_cfl.best_params_)"
      ]
    },
    {
      "cell_type": "code",
      "execution_count": null,
      "metadata": {
        "colab": {
          "background_save": true,
          "base_uri": "https://localhost:8080/"
        },
        "id": "XilKwz451HZJ",
        "outputId": "626fe7bb-500f-41e6-f684-64ba8210546c"
      },
      "outputs": [
        {
          "name": "stdout",
          "output_type": "stream",
          "text": [
            "For values of best alpha =  500 The train log loss is: 0.01174456067191477\n",
            "For values of best alpha =  500 The cross validation log loss is: 0.020718524626783936\n",
            "For values of best alpha =  500 The test log loss is: 0.028454908875815834\n"
          ]
        }
      ],
      "source": [
        "x_cfl=XGBClassifier(n_estimators=500,max_depth=3,learning_rate=0.15,colsample_bytree=0.5,subsample=1,nthread=-1)\n",
        "x_cfl.fit(X_train_merge,y_train_merge,verbose=True)\n",
        "sig_clf = CalibratedClassifierCV(x_cfl, method=\"sigmoid\")\n",
        "sig_clf.fit(X_train_merge, y_train_merge)\n",
        "    \n",
        "predict_y = sig_clf.predict_proba(X_train_merge)\n",
        "print ('For values of best alpha = ', 500, \"The train log loss is:\",log_loss(y_train_merge, predict_y))\n",
        "predict_y = sig_clf.predict_proba(X_cv_merge)\n",
        "print('For values of best alpha = ', 500, \"The cross validation log loss is:\",log_loss(y_cv_merge, predict_y))\n",
        "predict_y = sig_clf.predict_proba(X_test_merge)\n",
        "print('For values of best alpha = ', 500, \"The test log loss is:\",log_loss(y_test_merge, predict_y))\n",
        "\n"
      ]
    },
    {
      "cell_type": "code",
      "execution_count": 52,
      "metadata": {
        "id": "8tmTw1KEzbYt",
        "colab": {
          "base_uri": "https://localhost:8080/",
          "height": 279
        },
        "outputId": "fee55a43-5c6b-4128-c9e4-16581ca3414d"
      },
      "outputs": [
        {
          "output_type": "display_data",
          "data": {
            "text/plain": [
              "<Figure size 432x288 with 2 Axes>"
            ],
            "image/png": "[encoded data removed]"
          },
          "metadata": {
            "needs_background": "light"
          }
        }
      ],
      "source": [
        "predictions = sig_clf.predict(X_test_merge)\n",
        "cm = confusion_matrix(y_test_merge, predictions, labels=sig_clf.classes_)\n",
        "disp = ConfusionMatrixDisplay(confusion_matrix=cm,display_labels=sig_clf.classes_)\n",
        "disp.plot()\n",
        "plt.show()"
      ]
    },
    {
      "cell_type": "markdown",
      "metadata": {
        "id": "AC-pA6Z2AAjI"
      },
      "source": [
        "MY APPROACH TO SOLVE THIS CASE STUDY"
      ]
    },
    {
      "cell_type": "markdown",
      "metadata": {
        "id": "wcZ9FqGsAtVe"
      },
      "source": [
        "1)I extracted train.7z in my external harddisk of space 1TB,after extracting the file it occupied 200GB of space.<br>\n",
        "2)I changed OS path to get access to the directory and extracted bigram features from byte files and 800 pixel intesitiy values from asm files.<br>\n",
        "3)Bigram features Dataframe occupied 5.3 GB and to do normalization i used a dictionary to store column name as key and normalized values of that column as value.<br>\n",
        "4)Performed hyperparameter tuning and obtained best parameters.<br>\n",
        "5)model with best hyperparameter gave test log_loss of 0.02845."
      ]
    }
  ],
  "metadata": {
    "accelerator": "GPU",
    "colab": {
      "collapsed_sections": [],
      "machine_shape": "hm",
      "name": "microsoft_malware_sol.ipynb",
      "provenance": []
    },
    "gpuClass": "standard",
    "kernelspec": {
      "display_name": "Python 3",
      "language": "python",
      "name": "python3"
    },
    "language_info": {
      "codemirror_mode": {
        "name": "ipython",
        "version": 3
      },
      "file_extension": ".py",
      "mimetype": "text/x-python",
      "name": "python",
      "nbconvert_exporter": "python",
      "pygments_lexer": "ipython3",
      "version": "3.8.8"
    },
    "vscode": {
      "interpreter": {
        "hash": "ffc07624923affceafa6fae0f78aaad727ebda5598769363d4c8d76f29989191"
      }
    }
  },
  "nbformat": 4,
  "nbformat_minor": 0
}